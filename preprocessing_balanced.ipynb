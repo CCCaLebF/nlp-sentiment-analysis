{
 "cells": [
  {
   "cell_type": "markdown",
   "metadata": {},
   "source": [
    "Convert JSON to CSV"
   ]
  },
  {
   "cell_type": "code",
   "execution_count": null,
   "metadata": {},
   "outputs": [],
   "source": [
    "# Since google restaurant dataset is in json format, use pandas to convert it into a CSV file\n",
    "# DO NOT RERUN\n",
    "import pandas as pd \n",
    "df = pd.read_json(r'E:\\AIEBA Datasets\\Proj1 Datasets\\GoogleRestaurantReview.json', lines=True)\n",
    "df.to_csv(r'E:\\AIEBA Datasets\\Proj1 Datasets\\GoogleRestaurantReview.csv', index = None)"
   ]
  },
  {
   "attachments": {},
   "cell_type": "markdown",
   "metadata": {},
   "source": [
    "## Load in Datasets"
   ]
  },
  {
   "cell_type": "code",
   "execution_count": 1,
   "metadata": {},
   "outputs": [],
   "source": [
    "# Load in all three datasets\n",
    "# .csv files use the utf-8 encodings\n",
    "import pandas as pd\n",
    "\n",
    "# NOTE: Change the directories of datasets accordingly to run the code on your local machine\n",
    "amzn = pd.read_csv(r'E:\\AIEBA Datasets\\Proj1 Datasets\\AmazonReviews.csv',encoding='utf-8',engine='python')\n",
    "googl = pd.read_csv(r'E:\\AIEBA Datasets\\Proj1 Datasets\\GoogleRestaurantReview.csv',encoding='utf-8',engine='python')\n",
    "dis = pd.read_csv(r'E:\\AIEBA Datasets\\Proj1 Datasets\\DisneylandReviews.csv',encoding='utf-8',engine='python')"
   ]
  },
  {
   "cell_type": "code",
   "execution_count": 2,
   "metadata": {},
   "outputs": [
    {
     "data": {
      "text/html": [
       "<div>\n",
       "<style scoped>\n",
       "    .dataframe tbody tr th:only-of-type {\n",
       "        vertical-align: middle;\n",
       "    }\n",
       "\n",
       "    .dataframe tbody tr th {\n",
       "        vertical-align: top;\n",
       "    }\n",
       "\n",
       "    .dataframe thead th {\n",
       "        text-align: right;\n",
       "    }\n",
       "</style>\n",
       "<table border=\"1\" class=\"dataframe\">\n",
       "  <thead>\n",
       "    <tr style=\"text-align: right;\">\n",
       "      <th></th>\n",
       "      <th>id</th>\n",
       "      <th>name</th>\n",
       "      <th>asins</th>\n",
       "      <th>brand</th>\n",
       "      <th>categories</th>\n",
       "      <th>keys</th>\n",
       "      <th>manufacturer</th>\n",
       "      <th>reviews.date</th>\n",
       "      <th>reviews.dateAdded</th>\n",
       "      <th>reviews.dateSeen</th>\n",
       "      <th>...</th>\n",
       "      <th>reviews.doRecommend</th>\n",
       "      <th>reviews.id</th>\n",
       "      <th>reviews.numHelpful</th>\n",
       "      <th>reviews.rating</th>\n",
       "      <th>reviews.sourceURLs</th>\n",
       "      <th>reviews.text</th>\n",
       "      <th>reviews.title</th>\n",
       "      <th>reviews.userCity</th>\n",
       "      <th>reviews.userProvince</th>\n",
       "      <th>reviews.username</th>\n",
       "    </tr>\n",
       "  </thead>\n",
       "  <tbody>\n",
       "    <tr>\n",
       "      <th>0</th>\n",
       "      <td>AVqkIhwDv8e3D1O-lebb</td>\n",
       "      <td>All-New Fire HD 8 Tablet, 8 HD Display, Wi-Fi,...</td>\n",
       "      <td>B01AHB9CN2</td>\n",
       "      <td>Amazon</td>\n",
       "      <td>Electronics,iPad &amp; Tablets,All Tablets,Fire Ta...</td>\n",
       "      <td>841667104676,amazon/53004484,amazon/b01ahb9cn2...</td>\n",
       "      <td>Amazon</td>\n",
       "      <td>2017-01-13T00:00:00.000Z</td>\n",
       "      <td>2017-07-03T23:33:15Z</td>\n",
       "      <td>2017-06-07T09:04:00.000Z,2017-04-30T00:45:00.000Z</td>\n",
       "      <td>...</td>\n",
       "      <td>True</td>\n",
       "      <td>NaN</td>\n",
       "      <td>0.0</td>\n",
       "      <td>5.0</td>\n",
       "      <td>http://reviews.bestbuy.com/3545/5620406/review...</td>\n",
       "      <td>This $product so far has not%&amp;^# disappointed....</td>\n",
       "      <td>Kindle</td>\n",
       "      <td>NaN</td>\n",
       "      <td>NaN</td>\n",
       "      <td>Adapter</td>\n",
       "    </tr>\n",
       "    <tr>\n",
       "      <th>1</th>\n",
       "      <td>AVqkIhwDv8e3D1O-lebb</td>\n",
       "      <td>All-New Fire HD 8 Tablet, 8 HD Display, Wi-Fi,...</td>\n",
       "      <td>B01AHB9CN2</td>\n",
       "      <td>Amazon</td>\n",
       "      <td>Electronics,iPad &amp; Tablets,All Tablets,Fire Ta...</td>\n",
       "      <td>841667104676,amazon/53004484,amazon/b01ahb9cn2...</td>\n",
       "      <td>Amazon</td>\n",
       "      <td>2017-01-13T00:00:00.000Z</td>\n",
       "      <td>2017-07-03T23:33:15Z</td>\n",
       "      <td>2017-06-07T09:04:00.000Z,2017-04-30T00:45:00.000Z</td>\n",
       "      <td>...</td>\n",
       "      <td>True</td>\n",
       "      <td>NaN</td>\n",
       "      <td>0.0</td>\n",
       "      <td>5.0</td>\n",
       "      <td>http://reviews.bestbuy.com/3545/5620406/review...</td>\n",
       "      <td>great for beginner or experienced person. Boug...</td>\n",
       "      <td>very fast</td>\n",
       "      <td>NaN</td>\n",
       "      <td>NaN</td>\n",
       "      <td>truman</td>\n",
       "    </tr>\n",
       "    <tr>\n",
       "      <th>2</th>\n",
       "      <td>AVqkIhwDv8e3D1O-lebb</td>\n",
       "      <td>All-New Fire HD 8 Tablet, 8 HD Display, Wi-Fi,...</td>\n",
       "      <td>B01AHB9CN2</td>\n",
       "      <td>Amazon</td>\n",
       "      <td>Electronics,iPad &amp; Tablets,All Tablets,Fire Ta...</td>\n",
       "      <td>841667104676,amazon/53004484,amazon/b01ahb9cn2...</td>\n",
       "      <td>Amazon</td>\n",
       "      <td>2017-01-13T00:00:00.000Z</td>\n",
       "      <td>2017-07-03T23:33:15Z</td>\n",
       "      <td>2017-06-07T09:04:00.000Z,2017-04-30T00:45:00.000Z</td>\n",
       "      <td>...</td>\n",
       "      <td>True</td>\n",
       "      <td>NaN</td>\n",
       "      <td>0.0</td>\n",
       "      <td>5.0</td>\n",
       "      <td>http://reviews.bestbuy.com/3545/5620406/review...</td>\n",
       "      <td>Inexpensive tablet for him to use and learn on...</td>\n",
       "      <td>Beginner tablet for our 9 year old son.</td>\n",
       "      <td>NaN</td>\n",
       "      <td>NaN</td>\n",
       "      <td>DaveZ</td>\n",
       "    </tr>\n",
       "    <tr>\n",
       "      <th>3</th>\n",
       "      <td>AVqkIhwDv8e3D1O-lebb</td>\n",
       "      <td>All-New Fire HD 8 Tablet, 8 HD Display, Wi-Fi,...</td>\n",
       "      <td>B01AHB9CN2</td>\n",
       "      <td>Amazon</td>\n",
       "      <td>Electronics,iPad &amp; Tablets,All Tablets,Fire Ta...</td>\n",
       "      <td>841667104676,amazon/53004484,amazon/b01ahb9cn2...</td>\n",
       "      <td>Amazon</td>\n",
       "      <td>2017-01-13T00:00:00.000Z</td>\n",
       "      <td>2017-07-03T23:33:15Z</td>\n",
       "      <td>2017-06-07T09:04:00.000Z,2017-04-30T00:45:00.000Z</td>\n",
       "      <td>...</td>\n",
       "      <td>True</td>\n",
       "      <td>NaN</td>\n",
       "      <td>0.0</td>\n",
       "      <td>4.0</td>\n",
       "      <td>http://reviews.bestbuy.com/3545/5620406/review...</td>\n",
       "      <td>I've had my Fire HD 8 two weeks now and I love...</td>\n",
       "      <td>Good!!!</td>\n",
       "      <td>NaN</td>\n",
       "      <td>NaN</td>\n",
       "      <td>Shacks</td>\n",
       "    </tr>\n",
       "    <tr>\n",
       "      <th>4</th>\n",
       "      <td>AVqkIhwDv8e3D1O-lebb</td>\n",
       "      <td>All-New Fire HD 8 Tablet, 8 HD Display, Wi-Fi,...</td>\n",
       "      <td>B01AHB9CN2</td>\n",
       "      <td>Amazon</td>\n",
       "      <td>Electronics,iPad &amp; Tablets,All Tablets,Fire Ta...</td>\n",
       "      <td>841667104676,amazon/53004484,amazon/b01ahb9cn2...</td>\n",
       "      <td>Amazon</td>\n",
       "      <td>2017-01-12T00:00:00.000Z</td>\n",
       "      <td>2017-07-03T23:33:15Z</td>\n",
       "      <td>2017-06-07T09:04:00.000Z,2017-04-30T00:45:00.000Z</td>\n",
       "      <td>...</td>\n",
       "      <td>True</td>\n",
       "      <td>NaN</td>\n",
       "      <td>0.0</td>\n",
       "      <td>5.0</td>\n",
       "      <td>http://reviews.bestbuy.com/3545/5620406/review...</td>\n",
       "      <td>I bought this for my grand daughter when she c...</td>\n",
       "      <td>Fantastic Tablet for kids</td>\n",
       "      <td>NaN</td>\n",
       "      <td>NaN</td>\n",
       "      <td>explore42</td>\n",
       "    </tr>\n",
       "  </tbody>\n",
       "</table>\n",
       "<p>5 rows × 21 columns</p>\n",
       "</div>"
      ],
      "text/plain": [
       "                     id                                               name  \\\n",
       "0  AVqkIhwDv8e3D1O-lebb  All-New Fire HD 8 Tablet, 8 HD Display, Wi-Fi,...   \n",
       "1  AVqkIhwDv8e3D1O-lebb  All-New Fire HD 8 Tablet, 8 HD Display, Wi-Fi,...   \n",
       "2  AVqkIhwDv8e3D1O-lebb  All-New Fire HD 8 Tablet, 8 HD Display, Wi-Fi,...   \n",
       "3  AVqkIhwDv8e3D1O-lebb  All-New Fire HD 8 Tablet, 8 HD Display, Wi-Fi,...   \n",
       "4  AVqkIhwDv8e3D1O-lebb  All-New Fire HD 8 Tablet, 8 HD Display, Wi-Fi,...   \n",
       "\n",
       "        asins   brand                                         categories  \\\n",
       "0  B01AHB9CN2  Amazon  Electronics,iPad & Tablets,All Tablets,Fire Ta...   \n",
       "1  B01AHB9CN2  Amazon  Electronics,iPad & Tablets,All Tablets,Fire Ta...   \n",
       "2  B01AHB9CN2  Amazon  Electronics,iPad & Tablets,All Tablets,Fire Ta...   \n",
       "3  B01AHB9CN2  Amazon  Electronics,iPad & Tablets,All Tablets,Fire Ta...   \n",
       "4  B01AHB9CN2  Amazon  Electronics,iPad & Tablets,All Tablets,Fire Ta...   \n",
       "\n",
       "                                                keys manufacturer  \\\n",
       "0  841667104676,amazon/53004484,amazon/b01ahb9cn2...       Amazon   \n",
       "1  841667104676,amazon/53004484,amazon/b01ahb9cn2...       Amazon   \n",
       "2  841667104676,amazon/53004484,amazon/b01ahb9cn2...       Amazon   \n",
       "3  841667104676,amazon/53004484,amazon/b01ahb9cn2...       Amazon   \n",
       "4  841667104676,amazon/53004484,amazon/b01ahb9cn2...       Amazon   \n",
       "\n",
       "               reviews.date     reviews.dateAdded  \\\n",
       "0  2017-01-13T00:00:00.000Z  2017-07-03T23:33:15Z   \n",
       "1  2017-01-13T00:00:00.000Z  2017-07-03T23:33:15Z   \n",
       "2  2017-01-13T00:00:00.000Z  2017-07-03T23:33:15Z   \n",
       "3  2017-01-13T00:00:00.000Z  2017-07-03T23:33:15Z   \n",
       "4  2017-01-12T00:00:00.000Z  2017-07-03T23:33:15Z   \n",
       "\n",
       "                                    reviews.dateSeen  ... reviews.doRecommend  \\\n",
       "0  2017-06-07T09:04:00.000Z,2017-04-30T00:45:00.000Z  ...                True   \n",
       "1  2017-06-07T09:04:00.000Z,2017-04-30T00:45:00.000Z  ...                True   \n",
       "2  2017-06-07T09:04:00.000Z,2017-04-30T00:45:00.000Z  ...                True   \n",
       "3  2017-06-07T09:04:00.000Z,2017-04-30T00:45:00.000Z  ...                True   \n",
       "4  2017-06-07T09:04:00.000Z,2017-04-30T00:45:00.000Z  ...                True   \n",
       "\n",
       "  reviews.id  reviews.numHelpful  reviews.rating  \\\n",
       "0        NaN                 0.0             5.0   \n",
       "1        NaN                 0.0             5.0   \n",
       "2        NaN                 0.0             5.0   \n",
       "3        NaN                 0.0             4.0   \n",
       "4        NaN                 0.0             5.0   \n",
       "\n",
       "                                  reviews.sourceURLs  \\\n",
       "0  http://reviews.bestbuy.com/3545/5620406/review...   \n",
       "1  http://reviews.bestbuy.com/3545/5620406/review...   \n",
       "2  http://reviews.bestbuy.com/3545/5620406/review...   \n",
       "3  http://reviews.bestbuy.com/3545/5620406/review...   \n",
       "4  http://reviews.bestbuy.com/3545/5620406/review...   \n",
       "\n",
       "                                        reviews.text  \\\n",
       "0  This $product so far has not%&^# disappointed....   \n",
       "1  great for beginner or experienced person. Boug...   \n",
       "2  Inexpensive tablet for him to use and learn on...   \n",
       "3  I've had my Fire HD 8 two weeks now and I love...   \n",
       "4  I bought this for my grand daughter when she c...   \n",
       "\n",
       "                             reviews.title reviews.userCity  \\\n",
       "0                                   Kindle              NaN   \n",
       "1                                very fast              NaN   \n",
       "2  Beginner tablet for our 9 year old son.              NaN   \n",
       "3                                  Good!!!              NaN   \n",
       "4                Fantastic Tablet for kids              NaN   \n",
       "\n",
       "   reviews.userProvince  reviews.username  \n",
       "0                   NaN           Adapter  \n",
       "1                   NaN            truman  \n",
       "2                   NaN             DaveZ  \n",
       "3                   NaN            Shacks  \n",
       "4                   NaN         explore42  \n",
       "\n",
       "[5 rows x 21 columns]"
      ]
     },
     "execution_count": 2,
     "metadata": {},
     "output_type": "execute_result"
    }
   ],
   "source": [
    "amzn.head()"
   ]
  },
  {
   "cell_type": "code",
   "execution_count": 3,
   "metadata": {},
   "outputs": [
    {
     "data": {
      "text/html": [
       "<div>\n",
       "<style scoped>\n",
       "    .dataframe tbody tr th:only-of-type {\n",
       "        vertical-align: middle;\n",
       "    }\n",
       "\n",
       "    .dataframe tbody tr th {\n",
       "        vertical-align: top;\n",
       "    }\n",
       "\n",
       "    .dataframe thead th {\n",
       "        text-align: right;\n",
       "    }\n",
       "</style>\n",
       "<table border=\"1\" class=\"dataframe\">\n",
       "  <thead>\n",
       "    <tr style=\"text-align: right;\">\n",
       "      <th></th>\n",
       "      <th>business_id</th>\n",
       "      <th>user_id</th>\n",
       "      <th>rating</th>\n",
       "      <th>review_text</th>\n",
       "      <th>pics</th>\n",
       "    </tr>\n",
       "  </thead>\n",
       "  <tbody>\n",
       "    <tr>\n",
       "      <th>0</th>\n",
       "      <td>605730f68cd0e3d69a52284b</td>\n",
       "      <td>1.140000e+20</td>\n",
       "      <td>4.0</td>\n",
       "      <td>We came for a birthday brunch and this place i...</td>\n",
       "      <td>[{'id': 'AF1QipPrls2G30PS3tyC55KBxUrKgy3ER0AB5...</td>\n",
       "    </tr>\n",
       "    <tr>\n",
       "      <th>1</th>\n",
       "      <td>605730f68cd0e3d69a52284b</td>\n",
       "      <td>1.000000e+20</td>\n",
       "      <td>5.0</td>\n",
       "      <td>Cool place to hang out, have drinks.  There is...</td>\n",
       "      <td>[{'id': 'AF1QipPj8FEVZrdpTZmRdjoOtzQyfGYSwJ0Ub...</td>\n",
       "    </tr>\n",
       "    <tr>\n",
       "      <th>2</th>\n",
       "      <td>605730f68cd0e3d69a52284b</td>\n",
       "      <td>1.130000e+20</td>\n",
       "      <td>2.0</td>\n",
       "      <td>This place doesnâ€™t rock the senses when it c...</td>\n",
       "      <td>[{'id': 'AF1QipOP5poDTRQ4XXIM11buv5x9Ae-BNXwcq...</td>\n",
       "    </tr>\n",
       "    <tr>\n",
       "      <th>3</th>\n",
       "      <td>605730f68cd0e3d69a52284b</td>\n",
       "      <td>1.110000e+20</td>\n",
       "      <td>3.0</td>\n",
       "      <td>Pretty cool place to hang out with friends and...</td>\n",
       "      <td>[{'id': 'AF1QipMq84NEaCMdQtfrELbudJdQbTILp_5I_...</td>\n",
       "    </tr>\n",
       "    <tr>\n",
       "      <th>4</th>\n",
       "      <td>605730f68cd0e3d69a52284b</td>\n",
       "      <td>1.040000e+20</td>\n",
       "      <td>5.0</td>\n",
       "      <td>We saw this place the other day when we had re...</td>\n",
       "      <td>[{'id': 'AF1QipOTCVzPHHWTiQO_2UZNVeG5KMbcki6d5...</td>\n",
       "    </tr>\n",
       "    <tr>\n",
       "      <th>...</th>\n",
       "      <td>...</td>\n",
       "      <td>...</td>\n",
       "      <td>...</td>\n",
       "      <td>...</td>\n",
       "      <td>...</td>\n",
       "    </tr>\n",
       "    <tr>\n",
       "      <th>1048570</th>\n",
       "      <td>6046d7c2b0e2129e47535738</td>\n",
       "      <td>1.120000e+20</td>\n",
       "      <td>5.0</td>\n",
       "      <td>While a bit of a wait to get our table, EVERYT...</td>\n",
       "      <td>[{'id': 'AF1QipMIjnA4SJgGtcR_67zHe8EysG-cP34z3...</td>\n",
       "    </tr>\n",
       "    <tr>\n",
       "      <th>1048571</th>\n",
       "      <td>6046d7c2b0e2129e47535738</td>\n",
       "      <td>1.020000e+20</td>\n",
       "      <td>4.0</td>\n",
       "      <td>We've been wanting to try this place for a whi...</td>\n",
       "      <td>[{'id': 'AF1QipPWilgnjdycdt0PCDC96r-Py4B0eKQlN...</td>\n",
       "    </tr>\n",
       "    <tr>\n",
       "      <th>1048572</th>\n",
       "      <td>6046d7c2b0e2129e47535738</td>\n",
       "      <td>1.150000e+20</td>\n",
       "      <td>4.0</td>\n",
       "      <td>Always good food and service. Don't miss the s...</td>\n",
       "      <td>[{'id': 'AF1QipOlv2zNCl1X3BQwvnMu9yb5hWc6mIBl_...</td>\n",
       "    </tr>\n",
       "    <tr>\n",
       "      <th>1048573</th>\n",
       "      <td>6046d7c2b0e2129e47535738</td>\n",
       "      <td>1.130000e+20</td>\n",
       "      <td>5.0</td>\n",
       "      <td>Visited again for dinner and the Gyro platter ...</td>\n",
       "      <td>[{'id': 'AF1QipPQ5MX9otGswThFXnE_TXrrmdmz_TRQu...</td>\n",
       "    </tr>\n",
       "    <tr>\n",
       "      <th>1048574</th>\n",
       "      <td>6046d7c2b0e2129e47535738</td>\n",
       "      <td>1.030000e+20</td>\n",
       "      <td>5.0</td>\n",
       "      <td>Best Greek food in DFW! Start off with their d...</td>\n",
       "      <td>[{'id': 'AF1QipOtX8506-pa0Q2fqs2-blxlI9G0z1RQZ...</td>\n",
       "    </tr>\n",
       "  </tbody>\n",
       "</table>\n",
       "<p>1048575 rows × 5 columns</p>\n",
       "</div>"
      ],
      "text/plain": [
       "                      business_id       user_id  rating  \\\n",
       "0        605730f68cd0e3d69a52284b  1.140000e+20     4.0   \n",
       "1        605730f68cd0e3d69a52284b  1.000000e+20     5.0   \n",
       "2        605730f68cd0e3d69a52284b  1.130000e+20     2.0   \n",
       "3        605730f68cd0e3d69a52284b  1.110000e+20     3.0   \n",
       "4        605730f68cd0e3d69a52284b  1.040000e+20     5.0   \n",
       "...                           ...           ...     ...   \n",
       "1048570  6046d7c2b0e2129e47535738  1.120000e+20     5.0   \n",
       "1048571  6046d7c2b0e2129e47535738  1.020000e+20     4.0   \n",
       "1048572  6046d7c2b0e2129e47535738  1.150000e+20     4.0   \n",
       "1048573  6046d7c2b0e2129e47535738  1.130000e+20     5.0   \n",
       "1048574  6046d7c2b0e2129e47535738  1.030000e+20     5.0   \n",
       "\n",
       "                                               review_text  \\\n",
       "0        We came for a birthday brunch and this place i...   \n",
       "1        Cool place to hang out, have drinks.  There is...   \n",
       "2        This place doesnâ€™t rock the senses when it c...   \n",
       "3        Pretty cool place to hang out with friends and...   \n",
       "4        We saw this place the other day when we had re...   \n",
       "...                                                    ...   \n",
       "1048570  While a bit of a wait to get our table, EVERYT...   \n",
       "1048571  We've been wanting to try this place for a whi...   \n",
       "1048572  Always good food and service. Don't miss the s...   \n",
       "1048573  Visited again for dinner and the Gyro platter ...   \n",
       "1048574  Best Greek food in DFW! Start off with their d...   \n",
       "\n",
       "                                                      pics  \n",
       "0        [{'id': 'AF1QipPrls2G30PS3tyC55KBxUrKgy3ER0AB5...  \n",
       "1        [{'id': 'AF1QipPj8FEVZrdpTZmRdjoOtzQyfGYSwJ0Ub...  \n",
       "2        [{'id': 'AF1QipOP5poDTRQ4XXIM11buv5x9Ae-BNXwcq...  \n",
       "3        [{'id': 'AF1QipMq84NEaCMdQtfrELbudJdQbTILp_5I_...  \n",
       "4        [{'id': 'AF1QipOTCVzPHHWTiQO_2UZNVeG5KMbcki6d5...  \n",
       "...                                                    ...  \n",
       "1048570  [{'id': 'AF1QipMIjnA4SJgGtcR_67zHe8EysG-cP34z3...  \n",
       "1048571  [{'id': 'AF1QipPWilgnjdycdt0PCDC96r-Py4B0eKQlN...  \n",
       "1048572  [{'id': 'AF1QipOlv2zNCl1X3BQwvnMu9yb5hWc6mIBl_...  \n",
       "1048573  [{'id': 'AF1QipPQ5MX9otGswThFXnE_TXrrmdmz_TRQu...  \n",
       "1048574  [{'id': 'AF1QipOtX8506-pa0Q2fqs2-blxlI9G0z1RQZ...  \n",
       "\n",
       "[1048575 rows x 5 columns]"
      ]
     },
     "execution_count": 3,
     "metadata": {},
     "output_type": "execute_result"
    }
   ],
   "source": [
    "googl"
   ]
  },
  {
   "cell_type": "code",
   "execution_count": 4,
   "metadata": {},
   "outputs": [
    {
     "data": {
      "text/html": [
       "<div>\n",
       "<style scoped>\n",
       "    .dataframe tbody tr th:only-of-type {\n",
       "        vertical-align: middle;\n",
       "    }\n",
       "\n",
       "    .dataframe tbody tr th {\n",
       "        vertical-align: top;\n",
       "    }\n",
       "\n",
       "    .dataframe thead th {\n",
       "        text-align: right;\n",
       "    }\n",
       "</style>\n",
       "<table border=\"1\" class=\"dataframe\">\n",
       "  <thead>\n",
       "    <tr style=\"text-align: right;\">\n",
       "      <th></th>\n",
       "      <th>Review_ID</th>\n",
       "      <th>Rating</th>\n",
       "      <th>Year_Month</th>\n",
       "      <th>Reviewer_Location</th>\n",
       "      <th>Review_Text</th>\n",
       "      <th>Branch</th>\n",
       "    </tr>\n",
       "  </thead>\n",
       "  <tbody>\n",
       "    <tr>\n",
       "      <th>0</th>\n",
       "      <td>670772142</td>\n",
       "      <td>4.0</td>\n",
       "      <td>2019-4</td>\n",
       "      <td>Australia</td>\n",
       "      <td>If you've ever been to Disneyland anywhere you...</td>\n",
       "      <td>Disneyland_HongKong</td>\n",
       "    </tr>\n",
       "    <tr>\n",
       "      <th>1</th>\n",
       "      <td>670682799</td>\n",
       "      <td>4.0</td>\n",
       "      <td>2019-5</td>\n",
       "      <td>Philippines</td>\n",
       "      <td>Its been a while since d last time we visit HK...</td>\n",
       "      <td>Disneyland_HongKong</td>\n",
       "    </tr>\n",
       "    <tr>\n",
       "      <th>2</th>\n",
       "      <td>670623270</td>\n",
       "      <td>4.0</td>\n",
       "      <td>2019-4</td>\n",
       "      <td>United Arab Emirates</td>\n",
       "      <td>Thanks God it wasn   t too hot or too humid wh...</td>\n",
       "      <td>Disneyland_HongKong</td>\n",
       "    </tr>\n",
       "    <tr>\n",
       "      <th>3</th>\n",
       "      <td>670607911</td>\n",
       "      <td>4.0</td>\n",
       "      <td>2019-4</td>\n",
       "      <td>Australia</td>\n",
       "      <td>HK Disneyland is a great compact park. Unfortu...</td>\n",
       "      <td>Disneyland_HongKong</td>\n",
       "    </tr>\n",
       "    <tr>\n",
       "      <th>4</th>\n",
       "      <td>670607296</td>\n",
       "      <td>4.0</td>\n",
       "      <td>2019-4</td>\n",
       "      <td>United Kingdom</td>\n",
       "      <td>the location is not in the city, took around 1...</td>\n",
       "      <td>Disneyland_HongKong</td>\n",
       "    </tr>\n",
       "    <tr>\n",
       "      <th>...</th>\n",
       "      <td>...</td>\n",
       "      <td>...</td>\n",
       "      <td>...</td>\n",
       "      <td>...</td>\n",
       "      <td>...</td>\n",
       "      <td>...</td>\n",
       "    </tr>\n",
       "    <tr>\n",
       "      <th>42651</th>\n",
       "      <td>1765031</td>\n",
       "      <td>5.0</td>\n",
       "      <td>missing</td>\n",
       "      <td>United Kingdom</td>\n",
       "      <td>i went to disneyland paris in july 03 and thou...</td>\n",
       "      <td>Disneyland_Paris</td>\n",
       "    </tr>\n",
       "    <tr>\n",
       "      <th>42652</th>\n",
       "      <td>1659553</td>\n",
       "      <td>5.0</td>\n",
       "      <td>missing</td>\n",
       "      <td>Canada</td>\n",
       "      <td>2 adults and 1 child of 11 visited Disneyland ...</td>\n",
       "      <td>Disneyland_Paris</td>\n",
       "    </tr>\n",
       "    <tr>\n",
       "      <th>42653</th>\n",
       "      <td>1645894</td>\n",
       "      <td>5.0</td>\n",
       "      <td>missing</td>\n",
       "      <td>South Africa</td>\n",
       "      <td>My eleven year old daughter and myself went to...</td>\n",
       "      <td>Disneyland_Paris</td>\n",
       "    </tr>\n",
       "    <tr>\n",
       "      <th>42654</th>\n",
       "      <td>1618637</td>\n",
       "      <td>4.0</td>\n",
       "      <td>missing</td>\n",
       "      <td>United States</td>\n",
       "      <td>This hotel, part of the Disneyland Paris compl...</td>\n",
       "      <td>Disneyland_Paris</td>\n",
       "    </tr>\n",
       "    <tr>\n",
       "      <th>42655</th>\n",
       "      <td>1536786</td>\n",
       "      <td>4.0</td>\n",
       "      <td>missing</td>\n",
       "      <td>United Kingdom</td>\n",
       "      <td>I went to the Disneyparis resort, in 1996, wit...</td>\n",
       "      <td>Disneyland_Paris</td>\n",
       "    </tr>\n",
       "  </tbody>\n",
       "</table>\n",
       "<p>42656 rows × 6 columns</p>\n",
       "</div>"
      ],
      "text/plain": [
       "       Review_ID  Rating Year_Month     Reviewer_Location  \\\n",
       "0      670772142     4.0     2019-4             Australia   \n",
       "1      670682799     4.0     2019-5           Philippines   \n",
       "2      670623270     4.0     2019-4  United Arab Emirates   \n",
       "3      670607911     4.0     2019-4             Australia   \n",
       "4      670607296     4.0     2019-4        United Kingdom   \n",
       "...          ...     ...        ...                   ...   \n",
       "42651    1765031     5.0    missing        United Kingdom   \n",
       "42652    1659553     5.0    missing                Canada   \n",
       "42653    1645894     5.0    missing          South Africa   \n",
       "42654    1618637     4.0    missing         United States   \n",
       "42655    1536786     4.0    missing        United Kingdom   \n",
       "\n",
       "                                             Review_Text               Branch  \n",
       "0      If you've ever been to Disneyland anywhere you...  Disneyland_HongKong  \n",
       "1      Its been a while since d last time we visit HK...  Disneyland_HongKong  \n",
       "2      Thanks God it wasn   t too hot or too humid wh...  Disneyland_HongKong  \n",
       "3      HK Disneyland is a great compact park. Unfortu...  Disneyland_HongKong  \n",
       "4      the location is not in the city, took around 1...  Disneyland_HongKong  \n",
       "...                                                  ...                  ...  \n",
       "42651  i went to disneyland paris in july 03 and thou...     Disneyland_Paris  \n",
       "42652  2 adults and 1 child of 11 visited Disneyland ...     Disneyland_Paris  \n",
       "42653  My eleven year old daughter and myself went to...     Disneyland_Paris  \n",
       "42654  This hotel, part of the Disneyland Paris compl...     Disneyland_Paris  \n",
       "42655  I went to the Disneyparis resort, in 1996, wit...     Disneyland_Paris  \n",
       "\n",
       "[42656 rows x 6 columns]"
      ]
     },
     "execution_count": 4,
     "metadata": {},
     "output_type": "execute_result"
    }
   ],
   "source": [
    "dis"
   ]
  },
  {
   "cell_type": "code",
   "execution_count": 2,
   "metadata": {},
   "outputs": [],
   "source": [
    "# Drop columns that are not needed and standardize column names\n",
    "amzn = amzn.filter(items=['reviews.rating', 'reviews.text'])\n",
    "amzn = amzn.rename(columns={\"reviews.rating\":\"reviews_rating\", \"reviews.text\":\"reviews_text\"})\n",
    "\n",
    "googl = googl.filter(items=['rating', 'review_text'])\n",
    "googl = googl.rename(columns={\"rating\":\"reviews_rating\", \"review_text\":\"reviews_text\"})\n",
    "\n",
    "dis = dis.filter(items=['Rating','Review_Text'])\n",
    "dis = dis.rename(columns={\"Rating\":\"reviews_rating\", \"Review_Text\":\"reviews_text\"})"
   ]
  },
  {
   "cell_type": "code",
   "execution_count": 3,
   "metadata": {},
   "outputs": [
    {
     "data": {
      "text/html": [
       "<div>\n",
       "<style scoped>\n",
       "    .dataframe tbody tr th:only-of-type {\n",
       "        vertical-align: middle;\n",
       "    }\n",
       "\n",
       "    .dataframe tbody tr th {\n",
       "        vertical-align: top;\n",
       "    }\n",
       "\n",
       "    .dataframe thead th {\n",
       "        text-align: right;\n",
       "    }\n",
       "</style>\n",
       "<table border=\"1\" class=\"dataframe\">\n",
       "  <thead>\n",
       "    <tr style=\"text-align: right;\">\n",
       "      <th></th>\n",
       "      <th>reviews_rating</th>\n",
       "      <th>reviews_text</th>\n",
       "    </tr>\n",
       "  </thead>\n",
       "  <tbody>\n",
       "    <tr>\n",
       "      <th>0</th>\n",
       "      <td>5.0</td>\n",
       "      <td>This $product so far has not%&amp;^# disappointed....</td>\n",
       "    </tr>\n",
       "    <tr>\n",
       "      <th>1</th>\n",
       "      <td>5.0</td>\n",
       "      <td>great for beginner or experienced person. Boug...</td>\n",
       "    </tr>\n",
       "    <tr>\n",
       "      <th>2</th>\n",
       "      <td>5.0</td>\n",
       "      <td>Inexpensive tablet for him to use and learn on...</td>\n",
       "    </tr>\n",
       "    <tr>\n",
       "      <th>3</th>\n",
       "      <td>4.0</td>\n",
       "      <td>I've had my Fire HD 8 two weeks now and I love...</td>\n",
       "    </tr>\n",
       "    <tr>\n",
       "      <th>4</th>\n",
       "      <td>5.0</td>\n",
       "      <td>I bought this for my grand daughter when she c...</td>\n",
       "    </tr>\n",
       "    <tr>\n",
       "      <th>...</th>\n",
       "      <td>...</td>\n",
       "      <td>...</td>\n",
       "    </tr>\n",
       "    <tr>\n",
       "      <th>1125886</th>\n",
       "      <td>5.0</td>\n",
       "      <td>i went to disneyland paris in july 03 and thou...</td>\n",
       "    </tr>\n",
       "    <tr>\n",
       "      <th>1125887</th>\n",
       "      <td>5.0</td>\n",
       "      <td>2 adults and 1 child of 11 visited Disneyland ...</td>\n",
       "    </tr>\n",
       "    <tr>\n",
       "      <th>1125888</th>\n",
       "      <td>5.0</td>\n",
       "      <td>My eleven year old daughter and myself went to...</td>\n",
       "    </tr>\n",
       "    <tr>\n",
       "      <th>1125889</th>\n",
       "      <td>4.0</td>\n",
       "      <td>This hotel, part of the Disneyland Paris compl...</td>\n",
       "    </tr>\n",
       "    <tr>\n",
       "      <th>1125890</th>\n",
       "      <td>4.0</td>\n",
       "      <td>I went to the Disneyparis resort, in 1996, wit...</td>\n",
       "    </tr>\n",
       "  </tbody>\n",
       "</table>\n",
       "<p>1125891 rows × 2 columns</p>\n",
       "</div>"
      ],
      "text/plain": [
       "         reviews_rating                                       reviews_text\n",
       "0                   5.0  This $product so far has not%&^# disappointed....\n",
       "1                   5.0  great for beginner or experienced person. Boug...\n",
       "2                   5.0  Inexpensive tablet for him to use and learn on...\n",
       "3                   4.0  I've had my Fire HD 8 two weeks now and I love...\n",
       "4                   5.0  I bought this for my grand daughter when she c...\n",
       "...                 ...                                                ...\n",
       "1125886             5.0  i went to disneyland paris in july 03 and thou...\n",
       "1125887             5.0  2 adults and 1 child of 11 visited Disneyland ...\n",
       "1125888             5.0  My eleven year old daughter and myself went to...\n",
       "1125889             4.0  This hotel, part of the Disneyland Paris compl...\n",
       "1125890             4.0  I went to the Disneyparis resort, in 1996, wit...\n",
       "\n",
       "[1125891 rows x 2 columns]"
      ]
     },
     "execution_count": 3,
     "metadata": {},
     "output_type": "execute_result"
    }
   ],
   "source": [
    "# Concatenate all 3 datasets vertically\n",
    "combined = pd.concat([amzn, googl, dis], ignore_index=True)\n",
    "combined"
   ]
  },
  {
   "attachments": {},
   "cell_type": "markdown",
   "metadata": {},
   "source": [
    "## Data Cleansing and preprocessing"
   ]
  },
  {
   "cell_type": "code",
   "execution_count": 4,
   "metadata": {},
   "outputs": [
    {
     "name": "stdout",
     "output_type": "stream",
     "text": [
      "reviews_rating    55\n",
      "reviews_text      16\n",
      "dtype: int64\n"
     ]
    }
   ],
   "source": [
    "# remove rows with missing values\n",
    "print(combined.isnull().sum())\n",
    "combined = combined.dropna()"
   ]
  },
  {
   "cell_type": "code",
   "execution_count": 5,
   "metadata": {},
   "outputs": [
    {
     "name": "stdout",
     "output_type": "stream",
     "text": [
      "reviews_rating    0\n",
      "reviews_text      0\n",
      "dtype: int64\n"
     ]
    }
   ],
   "source": [
    "print(combined.isnull().sum())"
   ]
  },
  {
   "cell_type": "code",
   "execution_count": 6,
   "metadata": {},
   "outputs": [
    {
     "data": {
      "text/plain": [
       "2.0     30092\n",
       "1.0     45080\n",
       "3.0     69203\n",
       "4.0    223066\n",
       "5.0    758380\n",
       "Name: reviews_rating, dtype: int64"
      ]
     },
     "execution_count": 6,
     "metadata": {},
     "output_type": "execute_result"
    },
    {
     "data": {
      "image/png": "[encoded data removed]",
      "text/plain": [
       "<Figure size 432x288 with 1 Axes>"
      ]
     },
     "metadata": {
      "needs_background": "light"
     },
     "output_type": "display_data"
    }
   ],
   "source": [
    "combined[\"reviews_rating\"].value_counts().plot.bar()\n",
    "combined[\"reviews_rating\"].value_counts(ascending=True)"
   ]
  },
  {
   "cell_type": "code",
   "execution_count": 7,
   "metadata": {},
   "outputs": [
    {
     "data": {
      "text/html": [
       "<div>\n",
       "<style scoped>\n",
       "    .dataframe tbody tr th:only-of-type {\n",
       "        vertical-align: middle;\n",
       "    }\n",
       "\n",
       "    .dataframe tbody tr th {\n",
       "        vertical-align: top;\n",
       "    }\n",
       "\n",
       "    .dataframe thead th {\n",
       "        text-align: right;\n",
       "    }\n",
       "</style>\n",
       "<table border=\"1\" class=\"dataframe\">\n",
       "  <thead>\n",
       "    <tr style=\"text-align: right;\">\n",
       "      <th></th>\n",
       "      <th>reviews_rating</th>\n",
       "      <th>reviews_text</th>\n",
       "    </tr>\n",
       "  </thead>\n",
       "  <tbody>\n",
       "    <tr>\n",
       "      <th>18203</th>\n",
       "      <td>5.0</td>\n",
       "      <td>Super convenient. Battery life for weeks. Perf...</td>\n",
       "    </tr>\n",
       "    <tr>\n",
       "      <th>14901</th>\n",
       "      <td>5.0</td>\n",
       "      <td>My children love these kindles! They are so mu...</td>\n",
       "    </tr>\n",
       "    <tr>\n",
       "      <th>344876</th>\n",
       "      <td>5.0</td>\n",
       "      <td>I have to say, I had a few choices to choose f...</td>\n",
       "    </tr>\n",
       "    <tr>\n",
       "      <th>540077</th>\n",
       "      <td>5.0</td>\n",
       "      <td>Phenomenal BBQ combined with fast service and ...</td>\n",
       "    </tr>\n",
       "    <tr>\n",
       "      <th>1024969</th>\n",
       "      <td>5.0</td>\n",
       "      <td>The beef noodle soup is the star. You can't ge...</td>\n",
       "    </tr>\n",
       "    <tr>\n",
       "      <th>...</th>\n",
       "      <td>...</td>\n",
       "      <td>...</td>\n",
       "    </tr>\n",
       "    <tr>\n",
       "      <th>552208</th>\n",
       "      <td>1.0</td>\n",
       "      <td>Donâ€™t waste time or money!!!!!!! I live 3 mi...</td>\n",
       "    </tr>\n",
       "    <tr>\n",
       "      <th>1069965</th>\n",
       "      <td>1.0</td>\n",
       "      <td>(Translated by Google) We went here to eat the...</td>\n",
       "    </tr>\n",
       "    <tr>\n",
       "      <th>484556</th>\n",
       "      <td>1.0</td>\n",
       "      <td>We were anticipating a delightful experience a...</td>\n",
       "    </tr>\n",
       "    <tr>\n",
       "      <th>401200</th>\n",
       "      <td>1.0</td>\n",
       "      <td>128th Denny's is officially ghetto\\nHave been ...</td>\n",
       "    </tr>\n",
       "    <tr>\n",
       "      <th>1072684</th>\n",
       "      <td>1.0</td>\n",
       "      <td>When I asked if I could substitute on the meal...</td>\n",
       "    </tr>\n",
       "  </tbody>\n",
       "</table>\n",
       "<p>150460 rows × 2 columns</p>\n",
       "</div>"
      ],
      "text/plain": [
       "         reviews_rating                                       reviews_text\n",
       "18203               5.0  Super convenient. Battery life for weeks. Perf...\n",
       "14901               5.0  My children love these kindles! They are so mu...\n",
       "344876              5.0  I have to say, I had a few choices to choose f...\n",
       "540077              5.0  Phenomenal BBQ combined with fast service and ...\n",
       "1024969             5.0  The beef noodle soup is the star. You can't ge...\n",
       "...                 ...                                                ...\n",
       "552208              1.0  Donâ€™t waste time or money!!!!!!! I live 3 mi...\n",
       "1069965             1.0  (Translated by Google) We went here to eat the...\n",
       "484556              1.0  We were anticipating a delightful experience a...\n",
       "401200              1.0  128th Denny's is officially ghetto\\nHave been ...\n",
       "1072684             1.0  When I asked if I could substitute on the meal...\n",
       "\n",
       "[150460 rows x 2 columns]"
      ]
     },
     "execution_count": 7,
     "metadata": {},
     "output_type": "execute_result"
    },
    {
     "data": {
      "image/png": "[encoded data removed]",
      "text/plain": [
       "<Figure size 432x288 with 1 Axes>"
      ]
     },
     "metadata": {
      "needs_background": "light"
     },
     "output_type": "display_data"
    }
   ],
   "source": [
    "# perform undersampling to get balanced dataset\n",
    "\n",
    "least_class_amount, class_1, class_3, class_4, class_5 = combined.reviews_rating.value_counts(ascending=True)\n",
    "\n",
    "# create separate dataframes for each rating\n",
    "c5 = combined[combined[\"reviews_rating\"] == 5.0]\n",
    "c4 = combined[combined[\"reviews_rating\"] == 4.0]\n",
    "c3 = combined[combined[\"reviews_rating\"] == 3.0]\n",
    "c2 = combined[combined[\"reviews_rating\"] == 2.0]\n",
    "c1 = combined[combined[\"reviews_rating\"] == 1.0]\n",
    "\n",
    "# randomly remove data to in each dataframe to match the number of rows in c2 which has the least amount of data\n",
    "df_5 = c5.sample(least_class_amount, random_state=50) # random_state ensures reproducibility of the removal of data\n",
    "df_4 = c4.sample(least_class_amount, random_state=50) \n",
    "df_3 = c3.sample(least_class_amount, random_state=50)\n",
    "df_1 = c1.sample(least_class_amount, random_state=50)\n",
    "\n",
    "# concatenate all 5 dataframes into 1\n",
    "undersampled = pd.concat([df_5, df_4, df_3, c2, df_1], axis=0)\n",
    "combined = undersampled\n",
    "combined.reviews_rating.value_counts().plot.bar()\n",
    "combined.reviews_rating.value_counts()\n",
    "combined"
   ]
  },
  {
   "cell_type": "code",
   "execution_count": 8,
   "metadata": {},
   "outputs": [],
   "source": [
    "# remove non-ascii characters\n",
    "combined[\"reviews_text\"] = combined[\"reviews_text\"].str.encode('ascii', 'ignore').str.decode('ascii')"
   ]
  },
  {
   "cell_type": "code",
   "execution_count": 9,
   "metadata": {},
   "outputs": [
    {
     "data": {
      "text/html": [
       "<div>\n",
       "<style scoped>\n",
       "    .dataframe tbody tr th:only-of-type {\n",
       "        vertical-align: middle;\n",
       "    }\n",
       "\n",
       "    .dataframe tbody tr th {\n",
       "        vertical-align: top;\n",
       "    }\n",
       "\n",
       "    .dataframe thead th {\n",
       "        text-align: right;\n",
       "    }\n",
       "</style>\n",
       "<table border=\"1\" class=\"dataframe\">\n",
       "  <thead>\n",
       "    <tr style=\"text-align: right;\">\n",
       "      <th></th>\n",
       "      <th>reviews_rating</th>\n",
       "      <th>reviews_text</th>\n",
       "    </tr>\n",
       "  </thead>\n",
       "  <tbody>\n",
       "    <tr>\n",
       "      <th>18203</th>\n",
       "      <td>2</td>\n",
       "      <td>super convenient battery life for weeks perfec...</td>\n",
       "    </tr>\n",
       "    <tr>\n",
       "      <th>14901</th>\n",
       "      <td>2</td>\n",
       "      <td>my children love these kindles they are so muc...</td>\n",
       "    </tr>\n",
       "    <tr>\n",
       "      <th>344876</th>\n",
       "      <td>2</td>\n",
       "      <td>i have to say i had a few choices to choose fr...</td>\n",
       "    </tr>\n",
       "    <tr>\n",
       "      <th>540077</th>\n",
       "      <td>2</td>\n",
       "      <td>phenomenal bbq combined with fast service and ...</td>\n",
       "    </tr>\n",
       "    <tr>\n",
       "      <th>1024969</th>\n",
       "      <td>2</td>\n",
       "      <td>the beef noodle soup is the star you cant get ...</td>\n",
       "    </tr>\n",
       "    <tr>\n",
       "      <th>...</th>\n",
       "      <td>...</td>\n",
       "      <td>...</td>\n",
       "    </tr>\n",
       "    <tr>\n",
       "      <th>552208</th>\n",
       "      <td>0</td>\n",
       "      <td>dont waste time or money i live  miles away fr...</td>\n",
       "    </tr>\n",
       "    <tr>\n",
       "      <th>1069965</th>\n",
       "      <td>0</td>\n",
       "      <td>translated by google we went here to eat the n...</td>\n",
       "    </tr>\n",
       "    <tr>\n",
       "      <th>484556</th>\n",
       "      <td>0</td>\n",
       "      <td>we were anticipating a delightful experience a...</td>\n",
       "    </tr>\n",
       "    <tr>\n",
       "      <th>401200</th>\n",
       "      <td>0</td>\n",
       "      <td>th dennys is officially ghetto\\nhave been here...</td>\n",
       "    </tr>\n",
       "    <tr>\n",
       "      <th>1072684</th>\n",
       "      <td>0</td>\n",
       "      <td>when i asked if i could substitute on the meal...</td>\n",
       "    </tr>\n",
       "  </tbody>\n",
       "</table>\n",
       "<p>150460 rows × 2 columns</p>\n",
       "</div>"
      ],
      "text/plain": [
       "         reviews_rating                                       reviews_text\n",
       "18203                 2  super convenient battery life for weeks perfec...\n",
       "14901                 2  my children love these kindles they are so muc...\n",
       "344876                2  i have to say i had a few choices to choose fr...\n",
       "540077                2  phenomenal bbq combined with fast service and ...\n",
       "1024969               2  the beef noodle soup is the star you cant get ...\n",
       "...                 ...                                                ...\n",
       "552208                0  dont waste time or money i live  miles away fr...\n",
       "1069965               0  translated by google we went here to eat the n...\n",
       "484556                0  we were anticipating a delightful experience a...\n",
       "401200                0  th dennys is officially ghetto\\nhave been here...\n",
       "1072684               0  when i asked if i could substitute on the meal...\n",
       "\n",
       "[150460 rows x 2 columns]"
      ]
     },
     "execution_count": 9,
     "metadata": {},
     "output_type": "execute_result"
    }
   ],
   "source": [
    "# using regular expressions to remove unwanted characters and punctuations\n",
    "import re\n",
    "\n",
    "def cleanup(sentence):\n",
    "  sentence = str(sentence).lower()\n",
    "  sentence = cleanup_re.sub('',sentence).strip() \n",
    "  sentence = re.sub('[\\d]','',sentence) # remove all digits and numbers\n",
    "  return sentence\n",
    "\n",
    "def to_int(rating):\n",
    "    rating = int(rating) - 1\n",
    "    if rating >= 3:\n",
    "      rating = 2 # positive\n",
    "    elif rating <= 1:\n",
    "      rating = 0 # negative\n",
    "    else:\n",
    "      rating = 1 # neutral\n",
    "    return rating \n",
    "  \n",
    "cleanup_re = re.compile('[^\\w\\s]') # match whitespaces words only\n",
    "combined[\"reviews_text\"] = combined[\"reviews_text\"].apply(cleanup)\n",
    "combined[\"reviews_rating\"] = combined[\"reviews_rating\"].apply(to_int)\n",
    "combined"
   ]
  },
  {
   "cell_type": "code",
   "execution_count": 10,
   "metadata": {},
   "outputs": [
    {
     "name": "stdout",
     "output_type": "stream",
     "text": [
      "{'m', 'you', 'll', 'couldn', 'am', 'for', 'below', 'should', \"needn't\", 'under', 'yourselves', 'i', 'at', 'any', 'most', 't', 'our', 'yours', \"should've\", 'that', 'who', 'how', 'theirs', 'his', 'while', \"it's\", 'before', 'there', 'with', 'o', \"mightn't\", 'other', 'itself', 'between', 'what', 'aren', 'its', 've', 'such', 'all', 'just', 'about', 'shan', 'weren', 'isn', 'this', 'and', 're', 'wasn', 'he', 'herself', 'down', 'which', 'she', 'hadn', 'into', 'some', 'above', 'or', 'on', 'them', \"you'd\", 'be', 'why', \"wasn't\", 'few', 'off', \"you've\", 'through', 'once', \"aren't\", \"weren't\", 'against', 'can', 'as', 'my', 'her', 'from', \"don't\", 'we', \"couldn't\", 'only', 'own', 'than', 'ourselves', \"haven't\", 'shouldn', 'me', 'until', 'each', 'then', 'during', 'same', 'hasn', 'him', \"won't\", \"she's\", 'so', \"doesn't\", 'again', 'doing', 'it', \"shouldn't\", 'they', 'out', 'hers', 'these', 'y', 'those', 'where', \"you're\", 'their', 'a', 'when', 'ain', 'of', 'didn', 'doesn', 'in', 'mightn', \"shan't\", 'to', \"you'll\", 'ours', 'now', \"isn't\", 'being', 'wouldn', \"wouldn't\", 's', 'an', 'been', 'will', 'up', 'too', 'were', 'because', 'themselves', 'more', 'further', 'but', 'over', 'haven', 'whom', 'if', 'here', 'is', 'himself', \"that'll\", 'don', 'won', 'by', \"hasn't\", 'your', 'myself', \"hadn't\", 'needn', 'are', 'after', 'ma', 'was', 'mustn', \"mustn't\", 'yourself', 'both', 'd', \"didn't\", 'the'}\n"
     ]
    }
   ],
   "source": [
    "# remove stopwords \n",
    "import nltk\n",
    "from nltk.corpus import stopwords\n",
    "\n",
    "def remove_stopwords(sentence):\n",
    "  sentence = sentence.split()\n",
    "  sentence = [word for word in sentence if word not in stoplist]\n",
    "  sentence = ' '.join(sentence)\n",
    "  return sentence\n",
    "    \n",
    "# some words in the default list of stopwords are retained as they can change the meaning of a sentence\n",
    "def custom_stoplist():\n",
    "  stop_words = set(stopwords.words('english'))\n",
    "  wanted_stopwords = {'not', 'nor', 'no', 'have', 'has', 'had', 'having', 'do', 'does', 'did', 'very'}\n",
    "  stoplist = stop_words - wanted_stopwords\n",
    "  return stoplist\n",
    "\n",
    "stoplist = custom_stoplist()\n",
    "combined[\"reviews_text\"] = combined[\"reviews_text\"].apply(remove_stopwords)\n",
    "combined\n",
    "\n",
    "print(stoplist)"
   ]
  },
  {
   "cell_type": "code",
   "execution_count": 11,
   "metadata": {},
   "outputs": [
    {
     "name": "stdout",
     "output_type": "stream",
     "text": [
      "150460\n"
     ]
    }
   ],
   "source": [
    "# perform 80-20 split on data\n",
    "from sklearn.model_selection import train_test_split\n",
    "\n",
    "sentences = combined[\"reviews_text\"].tolist()\n",
    "labels = combined[\"reviews_rating\"].tolist()\n",
    "print(len(sentences))\n",
    "training_sentences, test_sentences, training_labels, test_labels = train_test_split(sentences, labels, test_size=0.2, train_size=0.8, random_state=35) "
   ]
  },
  {
   "attachments": {},
   "cell_type": "markdown",
   "metadata": {},
   "source": [
    "## Constructing the Embedding Layer"
   ]
  },
  {
   "cell_type": "code",
   "execution_count": 12,
   "metadata": {},
   "outputs": [
    {
     "name": "stdout",
     "output_type": "stream",
     "text": [
      "91284\n"
     ]
    }
   ],
   "source": [
    "import tensorflow as tf\n",
    "from tensorflow.keras.preprocessing.text import Tokenizer\n",
    "from tensorflow.keras.preprocessing.sequence import pad_sequences\n",
    "import numpy as np\n",
    "\n",
    "vocab_size = 40000 # number of words that will be retained for model training\n",
    "max_length = 100 # length of sequence\n",
    "trunc_type='post' \n",
    "padding_type='post' \n",
    "oov_tok = \"<OOV>\" # placeholder if model encounters words it has never seen before in the test set\n",
    "\n",
    "# Perform Tokenization - the process breaking down sentences into its individual words and assigning a number to it\n",
    "tokenizer = Tokenizer(num_words=vocab_size,oov_token=oov_tok)\n",
    "tokenizer.fit_on_texts(training_sentences) \n",
    "word_index = tokenizer.word_index # dictionary that contains every unique word and its ID from the training sentences.\n",
    "vocab_length = len(word_index) + 1\n",
    "print(vocab_length)\n",
    "\n",
    "# perform sequencing and padding on the training and test sentences\n",
    "training_sequences = tokenizer.texts_to_sequences(training_sentences)\n",
    "training_padded = pad_sequences(training_sequences, maxlen=max_length, \n",
    "                               padding=padding_type,truncating=trunc_type) \n",
    "\n",
    "test_sequences = tokenizer.texts_to_sequences(test_sentences)\n",
    "test_padded = pad_sequences(test_sequences, maxlen=max_length, \n",
    "                           padding=padding_type, truncating=trunc_type)"
   ]
  },
  {
   "attachments": {},
   "cell_type": "markdown",
   "metadata": {},
   "source": [
    "Vizualizing tokenization, sequencing and padding"
   ]
  },
  {
   "cell_type": "code",
   "execution_count": 16,
   "metadata": {},
   "outputs": [
    {
     "name": "stdout",
     "output_type": "stream",
     "text": [
      "have good foods not expensive\n"
     ]
    }
   ],
   "source": [
    "print(test_sentences[1]) # an example sentence in the test set"
   ]
  },
  {
   "cell_type": "code",
   "execution_count": 17,
   "metadata": {},
   "outputs": [
    {
     "name": "stdout",
     "output_type": "stream",
     "text": [
      "[6, 4, 931, 3, 192]\n"
     ]
    }
   ],
   "source": [
    "print(test_sequences[1]) # tokenize words in the sentence to create a sequence"
   ]
  },
  {
   "cell_type": "code",
   "execution_count": 39,
   "metadata": {},
   "outputs": [
    {
     "name": "stdout",
     "output_type": "stream",
     "text": [
      "[  6   4 931   3 192   0   0   0   0   0   0   0   0   0   0   0   0   0\n",
      "   0   0   0   0   0   0   0   0   0   0   0   0   0   0   0   0   0   0\n",
      "   0   0   0   0   0   0   0   0   0   0   0   0   0   0   0   0   0   0\n",
      "   0   0   0   0   0   0   0   0   0   0   0   0   0   0   0   0   0   0\n",
      "   0   0   0   0   0   0   0   0   0   0   0   0   0   0   0   0   0   0\n",
      "   0   0   0   0   0   0   0   0   0   0]\n"
     ]
    }
   ],
   "source": [
    "print(test_padded[1]) # add padding to sequence to ensure equal length "
   ]
  },
  {
   "cell_type": "code",
   "execution_count": 41,
   "metadata": {},
   "outputs": [
    {
     "name": "stdout",
     "output_type": "stream",
     "text": [
      "100\n"
     ]
    }
   ],
   "source": [
    "print(len(test_padded[1]))"
   ]
  },
  {
   "cell_type": "code",
   "execution_count": 13,
   "metadata": {},
   "outputs": [],
   "source": [
    "# Use GloVe word embeddings\n",
    "from numpy import asarray\n",
    "from numpy import zeros\n",
    "\n",
    "embeddings_dict = {}\n",
    "embeddings_file = open('E:\\GloVe Word Embeddings\\glove.6B.100d.txt', encoding='utf8')\n",
    "\n",
    "for line in embeddings_file:\n",
    "  records = line.split()\n",
    "  word = records[0]\n",
    "  vector_dimensions = np.asarray(records[1:], dtype='float32')\n",
    "  embeddings_dict[word] = vector_dimensions\n",
    "\n",
    "embeddings_file.close()"
   ]
  },
  {
   "cell_type": "code",
   "execution_count": 21,
   "metadata": {},
   "outputs": [
    {
     "name": "stdout",
     "output_type": "stream",
     "text": [
      "(91284, 100)\n",
      "[[ 0.          0.          0.         ...  0.          0.\n",
      "   0.        ]\n",
      " [ 0.          0.          0.         ...  0.          0.\n",
      "   0.        ]\n",
      " [-0.16486     0.91996998  0.22736999 ... -0.067904    1.5072\n",
      "   0.60889   ]\n",
      " ...\n",
      " [-0.0083749   0.0067506   0.34296    ... -0.59895003  0.27572\n",
      "  -0.73003   ]\n",
      " [-0.18664999  0.13319001  0.17230999 ...  0.37483999  0.13688\n",
      "  -0.36337   ]\n",
      " [ 0.          0.          0.         ...  0.          0.\n",
      "   0.        ]]\n"
     ]
    }
   ],
   "source": [
    "# create embedding matrix by assigning the word vector in GloVe file to the corresponding word from the corpus\n",
    "embedding_matrix = np.zeros((vocab_length, 100))\n",
    "for word, index in word_index.items():\n",
    "  embedding_vector = embeddings_dict.get(word)\n",
    "  if embedding_vector is not None:\n",
    "    embedding_matrix[index] = embedding_vector\n",
    "print(embedding_matrix.shape) \n",
    "print(embedding_matrix)"
   ]
  },
  {
   "cell_type": "code",
   "execution_count": 22,
   "metadata": {},
   "outputs": [],
   "source": [
    "# Change labels to one-hot format\n",
    "training_labels = tf.keras.utils.to_categorical(training_labels, num_classes=None)\n",
    "test_labels = tf.keras.utils.to_categorical(test_labels, num_classes=None)"
   ]
  },
  {
   "attachments": {},
   "cell_type": "markdown",
   "metadata": {},
   "source": [
    "## DNN"
   ]
  },
  {
   "cell_type": "code",
   "execution_count": 23,
   "metadata": {},
   "outputs": [],
   "source": [
    "import keras\n",
    "import keras_tuner as kt\n",
    "num_of_ratings = 3 # number of possible ratings given by users: 1 to 5\n",
    "\n",
    "def model_builder_DNN(hp): \n",
    "\n",
    "    # Tuning params \n",
    "    filters = hp.Int('filters', min_value=32, max_value=128, step=32)\n",
    "    kernel_size = hp.Choice('kernel_size', values=[3,4,5])\n",
    "    embedding_dim = hp.Int('output_dim', min_value=8, max_value=128, step=8)\n",
    "    dropout = hp.Boolean('dropout')\n",
    "    dropout_rate = hp.Choice('rate', values=[0.2,0.3,0.4,0.5])\n",
    "    lr = hp.Choice('learning_rate', values=[1e-2, 1e-3, 1e-4])\n",
    "    embedding_layer = tf.keras.layers.Embedding(vocab_length, 100, weights=[embedding_matrix], input_length=max_length, trainable=False)\n",
    "    \n",
    "\n",
    "    # Creating model \n",
    "    model = keras.Sequential()\n",
    "    model.add(embedding_layer)\n",
    "    model.add(keras.layers.GlobalAveragePooling1D())\n",
    "    if dropout:\n",
    "        model.add(keras.layers.Dropout(rate = dropout_rate))\n",
    "    for i in range(hp.Int('layers', min_value=1, max_value=4)):\n",
    "        model.add(keras.layers.Dense(units=hp.Int('units_'+ str(i), 20, 100, step=10), activation='relu')) \n",
    "\n",
    "    model.add(keras.layers.Dense(num_of_ratings, activation='softmax'))                                                                        \n",
    "\n",
    "    model.compile(optimizer=keras.optimizers.Adam(learning_rate=lr),loss='categorical_crossentropy',metrics=['accuracy'])\n",
    "\n",
    "    return model"
   ]
  },
  {
   "cell_type": "code",
   "execution_count": 24,
   "metadata": {},
   "outputs": [],
   "source": [
    "tuner = kt.Hyperband(model_builder_DNN,\n",
    "                     objective='val_accuracy',\n",
    "                     max_epochs=10,\n",
    "                     factor=3,\n",
    "                     overwrite=True,)"
   ]
  },
  {
   "cell_type": "code",
   "execution_count": 25,
   "metadata": {},
   "outputs": [],
   "source": [
    "callback = tf.keras.callbacks.EarlyStopping(monitor='val_loss', patience=3)"
   ]
  },
  {
   "cell_type": "code",
   "execution_count": 26,
   "metadata": {},
   "outputs": [
    {
     "name": "stdout",
     "output_type": "stream",
     "text": [
      "INFO:tensorflow:Oracle triggered exit\n"
     ]
    }
   ],
   "source": [
    "# Hyperparameter optimisation \n",
    "tuner.search(training_padded, training_labels, epochs=50, validation_data=(test_padded, test_labels), callbacks=[callback], verbose=0)"
   ]
  },
  {
   "cell_type": "code",
   "execution_count": 27,
   "metadata": {},
   "outputs": [
    {
     "name": "stdout",
     "output_type": "stream",
     "text": [
      "Model: \"sequential_1\"\n",
      "_________________________________________________________________\n",
      " Layer (type)                Output Shape              Param #   \n",
      "=================================================================\n",
      " embedding_1 (Embedding)     (None, 100, 100)          9128400   \n",
      "                                                                 \n",
      " global_average_pooling1d_1   (None, 100)              0         \n",
      " (GlobalAveragePooling1D)                                        \n",
      "                                                                 \n",
      " dense_4 (Dense)             (None, 100)               10100     \n",
      "                                                                 \n",
      " dense_5 (Dense)             (None, 20)                2020      \n",
      "                                                                 \n",
      " dense_6 (Dense)             (None, 60)                1260      \n",
      "                                                                 \n",
      " dense_7 (Dense)             (None, 30)                1830      \n",
      "                                                                 \n",
      " dense_8 (Dense)             (None, 3)                 93        \n",
      "                                                                 \n",
      "=================================================================\n",
      "Total params: 9,143,703\n",
      "Trainable params: 15,303\n",
      "Non-trainable params: 9,128,400\n",
      "_________________________________________________________________\n"
     ]
    }
   ],
   "source": [
    "best_hps_rs=tuner.get_best_hyperparameters()[0] # Retreive best hyper params\n",
    "hypermodel_rs = tuner.hypermodel.build(best_hps_rs) # Create model with hyper params \n",
    "hypermodel_rs.summary()"
   ]
  },
  {
   "cell_type": "code",
   "execution_count": 28,
   "metadata": {},
   "outputs": [
    {
     "name": "stdout",
     "output_type": "stream",
     "text": [
      "Epoch 1/30\n",
      "3762/3762 [==============================] - 17s 4ms/step - loss: 0.7449 - accuracy: 0.6797 - val_loss: 0.7215 - val_accuracy: 0.6938\n",
      "Epoch 2/30\n",
      "3762/3762 [==============================] - 15s 4ms/step - loss: 0.7028 - accuracy: 0.6981 - val_loss: 0.6974 - val_accuracy: 0.7017\n",
      "Epoch 3/30\n",
      "3762/3762 [==============================] - 15s 4ms/step - loss: 0.6923 - accuracy: 0.7039 - val_loss: 0.7033 - val_accuracy: 0.6990\n",
      "Epoch 4/30\n",
      "3762/3762 [==============================] - 16s 4ms/step - loss: 0.6845 - accuracy: 0.7065 - val_loss: 0.6856 - val_accuracy: 0.7057\n",
      "Epoch 5/30\n",
      "3762/3762 [==============================] - 15s 4ms/step - loss: 0.6794 - accuracy: 0.7092 - val_loss: 0.6799 - val_accuracy: 0.7119\n",
      "Epoch 6/30\n",
      "3762/3762 [==============================] - 15s 4ms/step - loss: 0.6754 - accuracy: 0.7113 - val_loss: 0.6858 - val_accuracy: 0.7087\n",
      "Epoch 7/30\n",
      "3762/3762 [==============================] - 15s 4ms/step - loss: 0.6705 - accuracy: 0.7131 - val_loss: 0.6805 - val_accuracy: 0.7118\n",
      "Epoch 8/30\n",
      "3762/3762 [==============================] - 15s 4ms/step - loss: 0.6666 - accuracy: 0.7154 - val_loss: 0.6721 - val_accuracy: 0.7134\n",
      "Epoch 9/30\n",
      "3762/3762 [==============================] - 16s 4ms/step - loss: 0.6638 - accuracy: 0.7165 - val_loss: 0.6733 - val_accuracy: 0.7151\n",
      "Epoch 10/30\n",
      "3762/3762 [==============================] - 16s 4ms/step - loss: 0.6610 - accuracy: 0.7160 - val_loss: 0.6716 - val_accuracy: 0.7163\n",
      "Epoch 11/30\n",
      "3762/3762 [==============================] - 16s 4ms/step - loss: 0.6571 - accuracy: 0.7191 - val_loss: 0.6706 - val_accuracy: 0.7150\n",
      "Epoch 12/30\n",
      "3762/3762 [==============================] - 15s 4ms/step - loss: 0.6553 - accuracy: 0.7189 - val_loss: 0.6884 - val_accuracy: 0.7114\n",
      "Epoch 13/30\n",
      "3762/3762 [==============================] - 15s 4ms/step - loss: 0.6525 - accuracy: 0.7214 - val_loss: 0.6742 - val_accuracy: 0.7149\n",
      "Epoch 14/30\n",
      "3762/3762 [==============================] - 15s 4ms/step - loss: 0.6501 - accuracy: 0.7223 - val_loss: 0.6710 - val_accuracy: 0.7148\n"
     ]
    }
   ],
   "source": [
    "history = hypermodel_rs.fit(training_padded, training_labels, epochs=30, validation_data=(test_padded, test_labels), callbacks=[callback])"
   ]
  },
  {
   "cell_type": "code",
   "execution_count": null,
   "metadata": {},
   "outputs": [],
   "source": [
    "hypermodel_rs.save(f\"E:\\Saved_NLP_models\\c1_DNN_model_acc_{round(score[1], 3)}.h5\", save_format='h5') # save the model and indicate its accuracy in the file name"
   ]
  },
  {
   "attachments": {},
   "cell_type": "markdown",
   "metadata": {},
   "source": [
    "## LSTM"
   ]
  },
  {
   "cell_type": "code",
   "execution_count": null,
   "metadata": {},
   "outputs": [],
   "source": [
    "# Keras tuner\n",
    "from keras.models import Sequential \n",
    "from keras.layers.core import Activation, Dense\n",
    "from keras.layers import Embedding, LSTM\n",
    "import keras_tuner as kt\n",
    "\n",
    "def model_building (hp):\n",
    "\n",
    "    dropout_rate = hp.Choice('rate', values=[0.2,0.3,0.4,0.5])\n",
    "    lstm_units = hp.Int('units', min_value=8, max_value=256, step=8)\n",
    "\n",
    "    embedding_layer = tf.keras.layers.Embedding(vocab_length, 100, weights=[embedding_matrix], input_length=max_length, trainable=False)\n",
    "    model = Sequential()\n",
    "    model.add(embedding_layer)\n",
    "    model.add(tf.keras.layers.LSTM(units=lstm_units, dropout=dropout_rate))\n",
    "    model.add(tf.keras.layers.Dense(3, activation='softmax'))\n",
    "    model.compile(optimizer='adam', loss='categorical_crossentropy', metrics=['accuracy'])\n",
    "\n",
    "    return model"
   ]
  },
  {
   "cell_type": "code",
   "execution_count": null,
   "metadata": {},
   "outputs": [],
   "source": [
    "tuner = kt.Hyperband(model_building,\n",
    "                     objective='val_accuracy',\n",
    "                     max_epochs=10,\n",
    "                     factor=3,\n",
    "                     overwrite=True,)"
   ]
  },
  {
   "cell_type": "code",
   "execution_count": null,
   "metadata": {},
   "outputs": [],
   "source": [
    "callback = tf.keras.callbacks.EarlyStopping(monitor='val_loss', patience=3)"
   ]
  },
  {
   "cell_type": "code",
   "execution_count": null,
   "metadata": {},
   "outputs": [],
   "source": [
    "# Hyperparameter optimisation \n",
    "tuner.search(training_padded, training_labels, epochs=50, validation_data=(test_padded, test_labels), callbacks=[callback], verbose=0)"
   ]
  },
  {
   "cell_type": "code",
   "execution_count": null,
   "metadata": {},
   "outputs": [],
   "source": [
    "best_hps_rs=tuner.get_best_hyperparameters()[0] # Retreive best hyper params\n",
    "hypermodel_rs = tuner.hypermodel.build(best_hps_rs) # Create model with hyper params \n",
    "hypermodel_rs.summary()"
   ]
  },
  {
   "cell_type": "code",
   "execution_count": null,
   "metadata": {},
   "outputs": [],
   "source": [
    "history = hypermodel_rs.fit(training_padded, training_labels, epochs=30, validation_data=(test_padded, test_labels), callbacks=[callback])"
   ]
  },
  {
   "cell_type": "code",
   "execution_count": null,
   "metadata": {},
   "outputs": [],
   "source": [
    "# Get the best epoch (OPTIONAL)\n",
    "val_acc_per_epoch = history.history['val_accuracy']\n",
    "best_epoch = val_acc_per_epoch.index(max(val_acc_per_epoch)) + 1\n",
    "print('Best epoch: %d' % (best_epoch,))"
   ]
  },
  {
   "cell_type": "code",
   "execution_count": null,
   "metadata": {},
   "outputs": [],
   "source": [
    "# Rerun with the best epoch (OPTIONAL)\n",
    "history = hypermodel_rs.fit(training_padded, training_labels, epochs=best_epoch, validation_data=(test_padded, test_labels), callbacks=[callback])"
   ]
  },
  {
   "attachments": {},
   "cell_type": "markdown",
   "metadata": {},
   "source": [
    "## Testing Model on Unseen Data "
   ]
  },
  {
   "cell_type": "code",
   "execution_count": 25,
   "metadata": {},
   "outputs": [],
   "source": [
    "hypermodel_rs = tf.keras.models.load_model(\"E:\\Saved_NLP_models\\c1_lstm_model_acc_0.781.h5\")"
   ]
  },
  {
   "cell_type": "code",
   "execution_count": 29,
   "metadata": {},
   "outputs": [
    {
     "name": "stdout",
     "output_type": "stream",
     "text": [
      "941/941 - 2s - loss: 0.6710 - accuracy: 0.7148 - 2s/epoch - 3ms/step\n"
     ]
    }
   ],
   "source": [
    "score = hypermodel_rs.evaluate(test_padded, test_labels, verbose=2)"
   ]
  },
  {
   "cell_type": "code",
   "execution_count": 30,
   "metadata": {},
   "outputs": [
    {
     "name": "stdout",
     "output_type": "stream",
     "text": [
      "1/1 [==============================] - 0s 119ms/step\n",
      "[[0.77069575 0.16950284 0.05980139]\n",
      " [0.39999798 0.23465931 0.36534268]\n",
      " [0.5034992  0.33717677 0.15932396]]\n",
      "\n",
      "Reviews: [\"S&P 500 Facing a Historical Warning Sign After This Year's Slump\", 'Palantir Could Be Worth $120 Billion by 2030', 'Calculating The Intrinsic Value Of Microsoft Corporation (NASDAQ:MSFT)']\n",
      "\n",
      "Ratings: [0 0 0]\n"
     ]
    }
   ],
   "source": [
    "# 1 positive, 1 negative and 1 neutral article about stocks (unseen data)\n",
    "\n",
    "sentence = [\"S&P 500 Facing a Historical Warning Sign After This Year's Slump\", \n",
    "            \"Palantir Could Be Worth $120 Billion by 2030\", \n",
    "            \"Calculating The Intrinsic Value Of Microsoft Corporation (NASDAQ:MSFT)\"]\n",
    "            \n",
    "sequences = tokenizer.texts_to_sequences(sentence)\n",
    "padded = pad_sequences(sequences, maxlen=max_length, padding=padding_type, truncating=trunc_type)\n",
    "output= hypermodel_rs.predict(padded)\n",
    "\n",
    "print(output)\n",
    "print(\"\\nReviews:\", sentence)\n",
    "print(\"\\nRatings:\", np.argmax(output, axis=1, out=None))\n",
    "\n",
    "# 0 - negative\n",
    "# 1 - neutral\n",
    "# 2 - positive"
   ]
  },
  {
   "cell_type": "code",
   "execution_count": null,
   "metadata": {},
   "outputs": [],
   "source": [
    "hypermodel_rs.save(f\"E:\\Saved_NLP_models\\c1_lstm_model_acc_{round(score[1], 3)}.h5\", save_format='h5') # save the model and indicate its accuracy in the file name"
   ]
  },
  {
   "cell_type": "code",
   "execution_count": 31,
   "metadata": {},
   "outputs": [
    {
     "data": {
      "text/plain": [
       "<AxesSubplot:>"
      ]
     },
     "execution_count": 31,
     "metadata": {},
     "output_type": "execute_result"
    },
    {
     "data": {
      "image/png": "[encoded data removed]",
      "text/plain": [
       "<Figure size 432x288 with 1 Axes>"
      ]
     },
     "metadata": {
      "needs_background": "light"
     },
     "output_type": "display_data"
    }
   ],
   "source": [
    "combined.reviews_rating.value_counts().plot.bar()"
   ]
  },
  {
   "cell_type": "code",
   "execution_count": null,
   "metadata": {},
   "outputs": [],
   "source": []
  }
 ],
 "metadata": {
  "kernelspec": {
   "display_name": "base",
   "language": "python",
   "name": "python3"
  },
  "language_info": {
   "codemirror_mode": {
    "name": "ipython",
    "version": 3
   },
   "file_extension": ".py",
   "mimetype": "text/x-python",
   "name": "python",
   "nbconvert_exporter": "python",
   "pygments_lexer": "ipython3",
   "version": "3.8.8 (default, Apr 13 2021, 15:08:03) [MSC v.1916 64 bit (AMD64)]"
  },
  "orig_nbformat": 4,
  "vscode": {
   "interpreter": {
    "hash": "f8b40d688a12481f01eadf7380c47edd8a49484a47dba3db091451640e880c68"
   }
  }
 },
 "nbformat": 4,
 "nbformat_minor": 2
}
