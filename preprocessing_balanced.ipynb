{
 "cells": [
  {
   "cell_type": "markdown",
   "metadata": {},
   "source": [
    "Convert JSON to CSV"
   ]
  },
  {
   "cell_type": "code",
   "execution_count": null,
   "metadata": {},
   "outputs": [],
   "source": [
    "# Since google restaurant dataset is in json format, use pandas to convert it into a CSV file\n",
    "# DO NOT RERUN\n",
    "import pandas as pd \n",
    "df = pd.read_json(r'E:\\AIEBA Datasets\\Proj1 Datasets\\GoogleRestaurantReview.json', lines=True)\n",
    "df.to_csv(r'E:\\AIEBA Datasets\\Proj1 Datasets\\GoogleRestaurantReview.csv', index = None)"
   ]
  },
  {
   "cell_type": "markdown",
   "metadata": {},
   "source": [
    "Formatting of Data"
   ]
  },
  {
   "cell_type": "code",
   "execution_count": 2,
   "metadata": {},
   "outputs": [],
   "source": [
    "# Load in all three datasets\n",
    "# .csv files use the utf-8 encoding\n",
    "import pandas as pd\n",
    "\n",
    "#amzn = pd.read_csv(r'E:\\AIEBA Datasets\\Proj1 Datasets\\AmazonReviews.csv',encoding='utf-8',engine='python')\n",
    "#googl = pd.read_csv(r'E:\\AIEBA Datasets\\Proj1 Datasets\\GoogleRestaurantReview.csv',encoding='utf-8',engine='python')\n",
    "#dis = pd.read_csv(r'E:\\AIEBA Datasets\\Proj1 Datasets\\DisneylandReviews.csv',encoding='utf-8',engine='python')\n",
    "\n",
    "amzn = pd.read_csv(r'C:\\AIEBA Datasets\\Proj1 Datasets\\AmazonReviews.csv',encoding='utf-8',engine='python')\n",
    "googl = pd.read_csv(r'C:\\AIEBA Datasets\\Proj1 Datasets\\GoogleRestaurantReview.csv',encoding='utf-8',engine='python')\n",
    "dis = pd.read_csv(r'C:\\AIEBA Datasets\\Proj1 Datasets\\DisneylandReviews.csv',encoding='utf-8',engine='python')"
   ]
  },
  {
   "cell_type": "code",
   "execution_count": null,
   "metadata": {},
   "outputs": [],
   "source": [
    "amzn.head()"
   ]
  },
  {
   "cell_type": "code",
   "execution_count": null,
   "metadata": {},
   "outputs": [],
   "source": [
    "googl.head()"
   ]
  },
  {
   "cell_type": "code",
   "execution_count": null,
   "metadata": {},
   "outputs": [],
   "source": [
    "dis.head()"
   ]
  },
  {
   "cell_type": "code",
   "execution_count": 3,
   "metadata": {},
   "outputs": [
    {
     "data": {
      "text/html": [
       "<div>\n",
       "<style scoped>\n",
       "    .dataframe tbody tr th:only-of-type {\n",
       "        vertical-align: middle;\n",
       "    }\n",
       "\n",
       "    .dataframe tbody tr th {\n",
       "        vertical-align: top;\n",
       "    }\n",
       "\n",
       "    .dataframe thead th {\n",
       "        text-align: right;\n",
       "    }\n",
       "</style>\n",
       "<table border=\"1\" class=\"dataframe\">\n",
       "  <thead>\n",
       "    <tr style=\"text-align: right;\">\n",
       "      <th></th>\n",
       "      <th>reviews_rating</th>\n",
       "      <th>reviews_text</th>\n",
       "    </tr>\n",
       "  </thead>\n",
       "  <tbody>\n",
       "    <tr>\n",
       "      <th>0</th>\n",
       "      <td>5.0</td>\n",
       "      <td>This $product so far has not%&amp;^# disappointed....</td>\n",
       "    </tr>\n",
       "    <tr>\n",
       "      <th>1</th>\n",
       "      <td>5.0</td>\n",
       "      <td>great for beginner or experienced person. Boug...</td>\n",
       "    </tr>\n",
       "    <tr>\n",
       "      <th>2</th>\n",
       "      <td>5.0</td>\n",
       "      <td>Inexpensive tablet for him to use and learn on...</td>\n",
       "    </tr>\n",
       "    <tr>\n",
       "      <th>3</th>\n",
       "      <td>4.0</td>\n",
       "      <td>I've had my Fire HD 8 two weeks now and I love...</td>\n",
       "    </tr>\n",
       "    <tr>\n",
       "      <th>4</th>\n",
       "      <td>5.0</td>\n",
       "      <td>I bought this for my grand daughter when she c...</td>\n",
       "    </tr>\n",
       "  </tbody>\n",
       "</table>\n",
       "</div>"
      ],
      "text/plain": [
       "   reviews_rating                                       reviews_text\n",
       "0             5.0  This $product so far has not%&^# disappointed....\n",
       "1             5.0  great for beginner or experienced person. Boug...\n",
       "2             5.0  Inexpensive tablet for him to use and learn on...\n",
       "3             4.0  I've had my Fire HD 8 two weeks now and I love...\n",
       "4             5.0  I bought this for my grand daughter when she c..."
      ]
     },
     "execution_count": 3,
     "metadata": {},
     "output_type": "execute_result"
    }
   ],
   "source": [
    "# Drop columns that are not needed and standardize column names\n",
    "amzn = amzn.filter(items=['reviews.rating', 'reviews.text'])\n",
    "amzn = amzn.rename(columns={\"reviews.rating\":\"reviews_rating\", \"reviews.text\":\"reviews_text\"})\n",
    "\n",
    "googl = googl.filter(items=['rating', 'review_text'])\n",
    "googl = googl.rename(columns={\"rating\":\"reviews_rating\", \"review_text\":\"reviews_text\"})\n",
    "\n",
    "dis = dis.filter(items=['Rating','Review_Text'])\n",
    "dis = dis.rename(columns={\"Rating\":\"reviews_rating\", \"Review_Text\":\"reviews_text\"})\n",
    "\n",
    "amzn.head()"
   ]
  },
  {
   "cell_type": "code",
   "execution_count": 4,
   "metadata": {},
   "outputs": [
    {
     "data": {
      "text/html": [
       "<div>\n",
       "<style scoped>\n",
       "    .dataframe tbody tr th:only-of-type {\n",
       "        vertical-align: middle;\n",
       "    }\n",
       "\n",
       "    .dataframe tbody tr th {\n",
       "        vertical-align: top;\n",
       "    }\n",
       "\n",
       "    .dataframe thead th {\n",
       "        text-align: right;\n",
       "    }\n",
       "</style>\n",
       "<table border=\"1\" class=\"dataframe\">\n",
       "  <thead>\n",
       "    <tr style=\"text-align: right;\">\n",
       "      <th></th>\n",
       "      <th>reviews_rating</th>\n",
       "      <th>reviews_text</th>\n",
       "    </tr>\n",
       "  </thead>\n",
       "  <tbody>\n",
       "    <tr>\n",
       "      <th>0</th>\n",
       "      <td>5.0</td>\n",
       "      <td>This $product so far has not%&amp;^# disappointed....</td>\n",
       "    </tr>\n",
       "    <tr>\n",
       "      <th>1</th>\n",
       "      <td>5.0</td>\n",
       "      <td>great for beginner or experienced person. Boug...</td>\n",
       "    </tr>\n",
       "    <tr>\n",
       "      <th>2</th>\n",
       "      <td>5.0</td>\n",
       "      <td>Inexpensive tablet for him to use and learn on...</td>\n",
       "    </tr>\n",
       "    <tr>\n",
       "      <th>3</th>\n",
       "      <td>4.0</td>\n",
       "      <td>I've had my Fire HD 8 two weeks now and I love...</td>\n",
       "    </tr>\n",
       "    <tr>\n",
       "      <th>4</th>\n",
       "      <td>5.0</td>\n",
       "      <td>I bought this for my grand daughter when she c...</td>\n",
       "    </tr>\n",
       "    <tr>\n",
       "      <th>...</th>\n",
       "      <td>...</td>\n",
       "      <td>...</td>\n",
       "    </tr>\n",
       "    <tr>\n",
       "      <th>1125886</th>\n",
       "      <td>5.0</td>\n",
       "      <td>i went to disneyland paris in july 03 and thou...</td>\n",
       "    </tr>\n",
       "    <tr>\n",
       "      <th>1125887</th>\n",
       "      <td>5.0</td>\n",
       "      <td>2 adults and 1 child of 11 visited Disneyland ...</td>\n",
       "    </tr>\n",
       "    <tr>\n",
       "      <th>1125888</th>\n",
       "      <td>5.0</td>\n",
       "      <td>My eleven year old daughter and myself went to...</td>\n",
       "    </tr>\n",
       "    <tr>\n",
       "      <th>1125889</th>\n",
       "      <td>4.0</td>\n",
       "      <td>This hotel, part of the Disneyland Paris compl...</td>\n",
       "    </tr>\n",
       "    <tr>\n",
       "      <th>1125890</th>\n",
       "      <td>4.0</td>\n",
       "      <td>I went to the Disneyparis resort, in 1996, wit...</td>\n",
       "    </tr>\n",
       "  </tbody>\n",
       "</table>\n",
       "<p>1125891 rows × 2 columns</p>\n",
       "</div>"
      ],
      "text/plain": [
       "         reviews_rating                                       reviews_text\n",
       "0                   5.0  This $product so far has not%&^# disappointed....\n",
       "1                   5.0  great for beginner or experienced person. Boug...\n",
       "2                   5.0  Inexpensive tablet for him to use and learn on...\n",
       "3                   4.0  I've had my Fire HD 8 two weeks now and I love...\n",
       "4                   5.0  I bought this for my grand daughter when she c...\n",
       "...                 ...                                                ...\n",
       "1125886             5.0  i went to disneyland paris in july 03 and thou...\n",
       "1125887             5.0  2 adults and 1 child of 11 visited Disneyland ...\n",
       "1125888             5.0  My eleven year old daughter and myself went to...\n",
       "1125889             4.0  This hotel, part of the Disneyland Paris compl...\n",
       "1125890             4.0  I went to the Disneyparis resort, in 1996, wit...\n",
       "\n",
       "[1125891 rows x 2 columns]"
      ]
     },
     "execution_count": 4,
     "metadata": {},
     "output_type": "execute_result"
    }
   ],
   "source": [
    "# Concatenate all 3 datasets by column\n",
    "combined = pd.concat([amzn, googl, dis], ignore_index=True)\n",
    "combined"
   ]
  },
  {
   "cell_type": "markdown",
   "metadata": {},
   "source": [
    "Data Cleansing and preprocessing"
   ]
  },
  {
   "cell_type": "code",
   "execution_count": 5,
   "metadata": {},
   "outputs": [
    {
     "name": "stdout",
     "output_type": "stream",
     "text": [
      "reviews_rating    55\n",
      "reviews_text      16\n",
      "dtype: int64\n"
     ]
    }
   ],
   "source": [
    "# remove rows with missing values\n",
    "print(combined.isnull().sum())\n",
    "combined = combined.dropna()\n"
   ]
  },
  {
   "cell_type": "code",
   "execution_count": 6,
   "metadata": {},
   "outputs": [
    {
     "name": "stdout",
     "output_type": "stream",
     "text": [
      "reviews_rating    0\n",
      "reviews_text      0\n",
      "dtype: int64\n"
     ]
    }
   ],
   "source": [
    "#missing values removed \n",
    "print(combined.isnull().sum())"
   ]
  },
  {
   "cell_type": "code",
   "execution_count": 7,
   "metadata": {},
   "outputs": [
    {
     "name": "stderr",
     "output_type": "stream",
     "text": [
      "C:\\Users\\czy20\\AppData\\Local\\Temp\\ipykernel_21036\\2930702492.py:10: SettingWithCopyWarning: \n",
      "A value is trying to be set on a copy of a slice from a DataFrame.\n",
      "Try using .loc[row_indexer,col_indexer] = value instead\n",
      "\n",
      "See the caveats in the documentation: https://pandas.pydata.org/pandas-docs/stable/user_guide/indexing.html#returning-a-view-versus-a-copy\n",
      "  combined[\"reviews_text\"] = combined[\"reviews_text\"].apply(cleanup)\n"
     ]
    }
   ],
   "source": [
    "# remove non alphanumeric values from reviews_text data rows while preserving whitespace\n",
    "import re \n",
    "\n",
    "cleanup_re = re.compile('[^\\w\\s\\.\\,\\!\\?]') # match whitespaces, words and puctuations\n",
    "def cleanup(sentence):\n",
    "  sentence = str(sentence)\n",
    "  sentence = cleanup_re.sub('',sentence).strip() # remove anything that is not within the match\n",
    "  return sentence\n",
    "\n",
    "combined[\"reviews_text\"] = combined[\"reviews_text\"].apply(cleanup)\n",
    "  "
   ]
  },
  {
   "cell_type": "code",
   "execution_count": null,
   "metadata": {},
   "outputs": [],
   "source": [
    "combined.head()"
   ]
  },
  {
   "cell_type": "code",
   "execution_count": 8,
   "metadata": {},
   "outputs": [
    {
     "data": {
      "text/plain": [
       "2.0     30092\n",
       "1.0     45080\n",
       "3.0     69203\n",
       "4.0    223066\n",
       "5.0    758380\n",
       "Name: reviews_rating, dtype: int64"
      ]
     },
     "execution_count": 8,
     "metadata": {},
     "output_type": "execute_result"
    },
    {
     "data": {
      "image/png": "[encoded data removed]",
      "text/plain": [
       "<Figure size 432x288 with 1 Axes>"
      ]
     },
     "metadata": {
      "needs_background": "light"
     },
     "output_type": "display_data"
    }
   ],
   "source": [
    "combined[\"reviews_rating\"].value_counts().plot.bar()\n",
    "combined[\"reviews_rating\"].value_counts(ascending=True)"
   ]
  },
  {
   "cell_type": "code",
   "execution_count": 8,
   "metadata": {},
   "outputs": [
    {
     "data": {
      "text/plain": [
       "5.0    30092\n",
       "4.0    30092\n",
       "3.0    30092\n",
       "2.0    30092\n",
       "1.0    30092\n",
       "Name: reviews_rating, dtype: int64"
      ]
     },
     "execution_count": 8,
     "metadata": {},
     "output_type": "execute_result"
    },
    {
     "data": {
      "image/png": "[encoded data removed]",
      "text/plain": [
       "<Figure size 640x480 with 1 Axes>"
      ]
     },
     "metadata": {},
     "output_type": "display_data"
    }
   ],
   "source": [
    "least_class_amount, class_1, class_3, class_4, class_5 = combined.reviews_rating.value_counts(ascending=True)\n",
    "\n",
    "# create separate dataframes for each rating\n",
    "c5 = combined[combined[\"reviews_rating\"] == 5.0]\n",
    "c4 = combined[combined[\"reviews_rating\"] == 4.0]\n",
    "c3 = combined[combined[\"reviews_rating\"] == 3.0]\n",
    "c2 = combined[combined[\"reviews_rating\"] == 2.0]\n",
    "c1 = combined[combined[\"reviews_rating\"] == 1.0]\n",
    "\n",
    "# randomly remove data to in each dataframe to match the number of rows in c2 which has the least amount of data\n",
    "df_5 = c5.sample(least_class_amount, random_state=100)\n",
    "df_4 = c4.sample(least_class_amount, random_state=100)\n",
    "df_3 = c3.sample(least_class_amount, random_state=100)\n",
    "df_1 = c1.sample(least_class_amount, random_state=100)\n",
    "\n",
    "# concatenate all 5 dataframes into 1 to get a balanced dataset\n",
    "undersampled = pd.concat([df_5, df_4, df_3, c2, df_1], axis=0)\n",
    "combined = undersampled\n",
    "combined.reviews_rating.value_counts().plot.bar()\n",
    "combined.reviews_rating.value_counts()"
   ]
  },
  {
   "cell_type": "code",
   "execution_count": 9,
   "metadata": {},
   "outputs": [],
   "source": [
    "# perform 80-20 split on data\n",
    "from sklearn.model_selection import train_test_split\n",
    "train, test = train_test_split(combined, test_size=0.2, train_size=0.8, random_state=100) \n",
    "# random_state controls how data is being shuffled\n",
    "# ensures that data is being shuffled the same way every time the cell is being ran\n"
   ]
  },
  {
   "cell_type": "code",
   "execution_count": 64,
   "metadata": {},
   "outputs": [
    {
     "data": {
      "text/html": [
       "<div>\n",
       "<style scoped>\n",
       "    .dataframe tbody tr th:only-of-type {\n",
       "        vertical-align: middle;\n",
       "    }\n",
       "\n",
       "    .dataframe tbody tr th {\n",
       "        vertical-align: top;\n",
       "    }\n",
       "\n",
       "    .dataframe thead th {\n",
       "        text-align: right;\n",
       "    }\n",
       "</style>\n",
       "<table border=\"1\" class=\"dataframe\">\n",
       "  <thead>\n",
       "    <tr style=\"text-align: right;\">\n",
       "      <th></th>\n",
       "      <th>reviews_rating</th>\n",
       "      <th>reviews_text</th>\n",
       "    </tr>\n",
       "  </thead>\n",
       "  <tbody>\n",
       "    <tr>\n",
       "      <th>1020326</th>\n",
       "      <td>1.0</td>\n",
       "      <td>Horrible rude service......  Sat here for 10 m...</td>\n",
       "    </tr>\n",
       "    <tr>\n",
       "      <th>810795</th>\n",
       "      <td>1.0</td>\n",
       "      <td>Sonic supposed to be fast. This location is th...</td>\n",
       "    </tr>\n",
       "    <tr>\n",
       "      <th>1012916</th>\n",
       "      <td>5.0</td>\n",
       "      <td>Great brunch place with a view.</td>\n",
       "    </tr>\n",
       "    <tr>\n",
       "      <th>693067</th>\n",
       "      <td>1.0</td>\n",
       "      <td>Super duper slow and the app sucks to. TRIGGERED</td>\n",
       "    </tr>\n",
       "    <tr>\n",
       "      <th>122049</th>\n",
       "      <td>3.0</td>\n",
       "      <td>Customer service was excellent. Tacos where a ...</td>\n",
       "    </tr>\n",
       "  </tbody>\n",
       "</table>\n",
       "</div>"
      ],
      "text/plain": [
       "         reviews_rating                                       reviews_text\n",
       "1020326             1.0  Horrible rude service......  Sat here for 10 m...\n",
       "810795              1.0  Sonic supposed to be fast. This location is th...\n",
       "1012916             5.0                    Great brunch place with a view.\n",
       "693067              1.0   Super duper slow and the app sucks to. TRIGGERED\n",
       "122049              3.0  Customer service was excellent. Tacos where a ..."
      ]
     },
     "execution_count": 64,
     "metadata": {},
     "output_type": "execute_result"
    }
   ],
   "source": [
    "train.head()"
   ]
  },
  {
   "cell_type": "markdown",
   "metadata": {},
   "source": [
    "Constructing the model"
   ]
  },
  {
   "cell_type": "code",
   "execution_count": 23,
   "metadata": {},
   "outputs": [],
   "source": [
    "import tensorflow as tf\n",
    "from tensorflow.keras.preprocessing.text import Tokenizer\n",
    "from tensorflow.keras.preprocessing.sequence import pad_sequences\n",
    "import numpy as np\n",
    "\n",
    "training_sentences = train[\"reviews_text\"]\n",
    "training_labels = train[\"reviews_rating\"]\n",
    "test_sentences = test[\"reviews_text\"]\n",
    "test_labels = test[\"reviews_rating\"]\n",
    "vocab_size = 97000 # number of words that will be fed into model \n",
    "max_length = 100 #\n",
    "trunc_type='post' # \n",
    "padding_type='post' #\n",
    "oov_tok = \"<OOV>\" # placeholder if model encounters words it has never seen before in the test set\n",
    "\n",
    "# Tokenization - breaking down sentences into its individual words and assigning a number to it\n",
    "tokenizer = Tokenizer(num_words=vocab_size, oov_token=oov_tok)\n",
    "tokenizer.fit_on_texts(training_sentences)\n",
    "word_index = tokenizer.word_index # Model's 'vocabulary' learnt from training data\n",
    "\n",
    "# Sequencing - converting each sentence into its numerical equivalent\n",
    "# Padding and truncating used to make all sentences same length \n",
    "training_sequences = tokenizer.texts_to_sequences(training_sentences)\n",
    "training_padded = pad_sequences(training_sequences, maxlen=max_length, padding=padding_type,\n",
    "                               truncating=trunc_type)\n",
    "\n",
    "test_sequences = tokenizer.texts_to_sequences(test_sentences)\n",
    "test_padded = pad_sequences(test_sequences, maxlen=max_length, padding=padding_type,\n",
    "                               truncating=trunc_type)"
   ]
  },
  {
   "cell_type": "code",
   "execution_count": 67,
   "metadata": {},
   "outputs": [],
   "source": [
    "# Need this block to get it to work with TensorFlow 2.x\n",
    "training_padded = np.array(training_padded)\n",
    "training_labels = tf.keras.utils.to_categorical(training_labels)\n",
    "test_padded = np.array(test_padded)\n",
    "test_labels = tf.keras.utils.to_categorical(test_labels)"
   ]
  },
  {
   "cell_type": "markdown",
   "metadata": {},
   "source": [
    "Model Building"
   ]
  },
  {
   "cell_type": "code",
   "execution_count": 37,
   "metadata": {},
   "outputs": [],
   "source": [
    "num_of_ratings = 6 # number of possible ratings given by users: 1 to 5\n",
    "embedding_dim = 32\n",
    "# Crating a model with 3 fully connected layers:\n",
    "# 1 embedding layer to find correlation between words, 1 pooling layer, 1 layer with relu function \n",
    "model = tf.keras.Sequential([\n",
    "    tf.keras.layers.Embedding(vocab_size, embedding_dim, input_length=max_length),\n",
    "    tf.keras.layers.GlobalAveragePooling1D(),\n",
    "    tf.keras.layers.Dense(24, activation='relu'), \n",
    "    tf.keras.layers.Dense(num_of_ratings, activation='softmax')\n",
    "])\n",
    "model.compile(optimizer='adam',loss='categorical_crossentropy',metrics=['accuracy'])"
   ]
  },
  {
   "cell_type": "code",
   "execution_count": 38,
   "metadata": {},
   "outputs": [
    {
     "name": "stdout",
     "output_type": "stream",
     "text": [
      "Model: \"sequential_2\"\n",
      "_________________________________________________________________\n",
      " Layer (type)                Output Shape              Param #   \n",
      "=================================================================\n",
      " embedding_2 (Embedding)     (None, 100, 32)           3104000   \n",
      "                                                                 \n",
      " global_average_pooling1d_2   (None, 32)               0         \n",
      " (GlobalAveragePooling1D)                                        \n",
      "                                                                 \n",
      " dense_4 (Dense)             (None, 24)                792       \n",
      "                                                                 \n",
      " dense_5 (Dense)             (None, 6)                 150       \n",
      "                                                                 \n",
      "=================================================================\n",
      "Total params: 3,104,942\n",
      "Trainable params: 3,104,942\n",
      "Non-trainable params: 0\n",
      "_________________________________________________________________\n"
     ]
    }
   ],
   "source": [
    "model.summary()"
   ]
  },
  {
   "cell_type": "code",
   "execution_count": 46,
   "metadata": {},
   "outputs": [
    {
     "name": "stdout",
     "output_type": "stream",
     "text": [
      "Epoch 1/10\n",
      "3762/3762 [==============================] - 103s 27ms/step - loss: 0.4645 - accuracy: 0.8162\n",
      "Epoch 2/10\n",
      "3762/3762 [==============================] - 106s 28ms/step - loss: 0.4530 - accuracy: 0.8211\n",
      "Epoch 3/10\n",
      "3762/3762 [==============================] - 103s 27ms/step - loss: 0.4408 - accuracy: 0.8258\n",
      "Epoch 4/10\n",
      "3762/3762 [==============================] - 103s 27ms/step - loss: 0.4290 - accuracy: 0.8309\n",
      "Epoch 5/10\n",
      "3762/3762 [==============================] - 103s 27ms/step - loss: 0.4179 - accuracy: 0.8350\n",
      "Epoch 6/10\n",
      "3762/3762 [==============================] - 103s 27ms/step - loss: 0.4082 - accuracy: 0.8386\n",
      "Epoch 7/10\n",
      "3762/3762 [==============================] - 103s 27ms/step - loss: 0.3965 - accuracy: 0.8442\n",
      "Epoch 8/10\n",
      "3762/3762 [==============================] - 103s 27ms/step - loss: 0.3863 - accuracy: 0.8473\n",
      "Epoch 9/10\n",
      "3762/3762 [==============================] - 109s 29ms/step - loss: 0.3752 - accuracy: 0.8531\n",
      "Epoch 10/10\n",
      "3762/3762 [==============================] - 104s 28ms/step - loss: 0.3659 - accuracy: 0.8562\n"
     ]
    }
   ],
   "source": [
    "# Training model\n",
    "\n",
    "#epochs_2 = 10\n",
    "#prediction_2 = model.fit(training_padded, training_labels, epochs=epochs_2, validation_data=(test_padded, test_labels), verbose=2)\n",
    "\n",
    "epochs_2 = 10\n",
    "history = model.fit(training_padded, training_labels, epochs=epochs_2, validation_data=(test_padded, test_labels), verbose=2)\n",
    "\n",
    "# ERROR HERE IS CAUSED BY INPUT DIMENSIONS NOT BEING COMPATIBLE WITH OUTPUT DIMENSIONS,\n",
    "# TODO: tune the values for the embedding layer  "
   ]
  },
  {
   "cell_type": "code",
   "execution_count": 43,
   "metadata": {},
   "outputs": [
    {
     "name": "stdout",
     "output_type": "stream",
     "text": [
      "1/1 [==============================] - 0s 30ms/step\n",
      "[[1.0139786e-12 3.2172948e-01 3.1494656e-01 2.4272436e-01 8.7624349e-02\n",
      "  3.2975152e-02]]\n",
      "Review: ['This place was fucking trash']\n",
      "Rating: 1\n"
     ]
    }
   ],
   "source": [
    "sentence = [\"This place was fucking trash\"]\n",
    "sequences = tokenizer.texts_to_sequences(sentence)\n",
    "padded = pad_sequences(sequences, maxlen=max_length, padding=padding_type, truncating=trunc_type)\n",
    "output= model.predict(padded)\n",
    "\n",
    "print(output)\n",
    "print(\"Review:\", sentence)\n",
    "print(\"Rating:\", np.argmax(output, axis=None, out=None))"
   ]
  },
  {
   "cell_type": "code",
   "execution_count": null,
   "metadata": {},
   "outputs": [],
   "source": []
  }
 ],
 "metadata": {
  "kernelspec": {
   "display_name": "myenv",
   "language": "python",
   "name": "python3"
  },
  "language_info": {
   "codemirror_mode": {
    "name": "ipython",
    "version": 3
   },
   "file_extension": ".py",
   "mimetype": "text/x-python",
   "name": "python",
   "nbconvert_exporter": "python",
   "pygments_lexer": "ipython3",
   "version": "3.9.15"
  },
  "orig_nbformat": 4,
  "vscode": {
   "interpreter": {
    "hash": "4eb821d4ea8ffd08a4f6d5ce177763d25f34fff29c46e0e1fcf1b5f44372bda7"
   }
  }
 },
 "nbformat": 4,
 "nbformat_minor": 2
}
