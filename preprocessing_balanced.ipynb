{
 "cells": [
  {
   "cell_type": "markdown",
   "metadata": {},
   "source": [
    "Convert JSON to CSV"
   ]
  },
  {
   "cell_type": "code",
   "execution_count": null,
   "metadata": {},
   "outputs": [],
   "source": [
    "# Since google restaurant dataset is in json format, use pandas to convert it into a CSV file\n",
    "# DO NOT RERUN\n",
    "import pandas as pd \n",
    "df = pd.read_json(r'E:\\AIEBA Datasets\\Proj1 Datasets\\GoogleRestaurantReview.json', lines=True)\n",
    "df.to_csv(r'E:\\AIEBA Datasets\\Proj1 Datasets\\GoogleRestaurantReview.csv', index = None)"
   ]
  },
  {
   "cell_type": "markdown",
   "metadata": {},
   "source": [
    "Formatting of Data"
   ]
  },
  {
   "cell_type": "code",
   "execution_count": null,
   "metadata": {},
   "outputs": [],
   "source": [
    "# Load in all three datasets\n",
    "# .csv files use the utf-8 encoding\n",
    "import pandas as pd\n",
    "\n",
    "#amzn = pd.read_csv(r'E:\\AIEBA Datasets\\Proj1 Datasets\\AmazonReviews.csv',encoding='utf-8',engine='python')\n",
    "#googl = pd.read_csv(r'E:\\AIEBA Datasets\\Proj1 Datasets\\GoogleRestaurantReview.csv',encoding='utf-8',engine='python')\n",
    "#dis = pd.read_csv(r'E:\\AIEBA Datasets\\Proj1 Datasets\\DisneylandReviews.csv',encoding='utf-8',engine='python')\n",
    "\n",
    "amzn = pd.read_csv(r'C:\\AIEBA Datasets\\Proj1 Datasets\\AmazonReviews.csv',encoding='utf-8',engine='python')\n",
    "googl = pd.read_csv(r'C:\\AIEBA Datasets\\Proj1 Datasets\\GoogleRestaurantReview.csv',encoding='utf-8',engine='python')\n",
    "dis = pd.read_csv(r'C:\\AIEBA Datasets\\Proj1 Datasets\\DisneylandReviews.csv',encoding='utf-8',engine='python')"
   ]
  },
  {
   "cell_type": "code",
   "execution_count": null,
   "metadata": {},
   "outputs": [],
   "source": [
    "amzn.head()"
   ]
  },
  {
   "cell_type": "code",
   "execution_count": null,
   "metadata": {},
   "outputs": [],
   "source": [
    "googl.head()"
   ]
  },
  {
   "cell_type": "code",
   "execution_count": null,
   "metadata": {},
   "outputs": [],
   "source": [
    "dis.head()"
   ]
  },
  {
   "cell_type": "code",
   "execution_count": null,
   "metadata": {},
   "outputs": [],
   "source": [
    "# Drop columns that are not needed and standardize column names\n",
    "amzn = amzn.filter(items=['reviews.rating', 'reviews.text'])\n",
    "amzn = amzn.rename(columns={\"reviews.rating\":\"reviews_rating\", \"reviews.text\":\"reviews_text\"})\n",
    "\n",
    "googl = googl.filter(items=['rating', 'review_text'])\n",
    "googl = googl.rename(columns={\"rating\":\"reviews_rating\", \"review_text\":\"reviews_text\"})\n",
    "\n",
    "dis = dis.filter(items=['Rating','Review_Text'])\n",
    "dis = dis.rename(columns={\"Rating\":\"reviews_rating\", \"Review_Text\":\"reviews_text\"})\n",
    "\n",
    "amzn.head()"
   ]
  },
  {
   "cell_type": "code",
   "execution_count": null,
   "metadata": {},
   "outputs": [],
   "source": [
    "# Concatenate all 3 datasets by column\n",
    "combined = pd.concat([amzn, googl, dis], ignore_index=True)\n",
    "combined"
   ]
  },
  {
   "cell_type": "markdown",
   "metadata": {},
   "source": [
    "Data Cleansing and preprocessing"
   ]
  },
  {
   "cell_type": "code",
   "execution_count": null,
   "metadata": {},
   "outputs": [],
   "source": [
    "# remove rows with missing values\n",
    "print(combined.isnull().sum())\n",
    "combined = combined.dropna()\n"
   ]
  },
  {
   "cell_type": "code",
   "execution_count": null,
   "metadata": {},
   "outputs": [],
   "source": [
    "#missing values removed \n",
    "print(combined.isnull().sum())"
   ]
  },
  {
   "cell_type": "code",
   "execution_count": null,
   "metadata": {},
   "outputs": [],
   "source": [
    "# remove non alphanumeric values from reviews_text data rows while preserving whitespace\n",
    "import re \n",
    "\n",
    "cleanup_re = re.compile('[^\\w\\s\\.\\,\\!\\?\\']') # match whitespaces, words and puctuations\n",
    "def cleanup(sentence):\n",
    "  sentence = str(sentence)\n",
    "  sentence = cleanup_re.sub('',sentence).strip() # remove anything that is not within the match\n",
    "  return sentence\n",
    "\n",
    "combined[\"reviews_text\"] = combined[\"reviews_text\"].apply(cleanup)\n",
    "  "
   ]
  },
  {
   "cell_type": "code",
   "execution_count": null,
   "metadata": {},
   "outputs": [],
   "source": [
    "combined.head()"
   ]
  },
  {
   "cell_type": "code",
   "execution_count": null,
   "metadata": {},
   "outputs": [],
   "source": [
    "combined[\"reviews_rating\"].value_counts().plot.bar()\n",
    "combined[\"reviews_rating\"].value_counts(ascending=True)"
   ]
  },
  {
   "cell_type": "code",
   "execution_count": null,
   "metadata": {},
   "outputs": [],
   "source": [
    "least_class_amount, class_1, class_3, class_4, class_5 = combined.reviews_rating.value_counts(ascending=True)\n",
    "\n",
    "# create separate dataframes for each rating\n",
    "c5 = combined[combined[\"reviews_rating\"] == 5.0]\n",
    "c4 = combined[combined[\"reviews_rating\"] == 4.0]\n",
    "c3 = combined[combined[\"reviews_rating\"] == 3.0]\n",
    "c2 = combined[combined[\"reviews_rating\"] == 2.0]\n",
    "c1 = combined[combined[\"reviews_rating\"] == 1.0]\n",
    "\n",
    "# randomly remove data to in each dataframe to match the number of rows in c2 which has the least amount of data\n",
    "df_5 = c5.sample(least_class_amount, random_state=100)\n",
    "df_4 = c4.sample(least_class_amount, random_state=100)\n",
    "df_3 = c3.sample(least_class_amount, random_state=100)\n",
    "df_1 = c1.sample(least_class_amount, random_state=100)\n",
    "\n",
    "# concatenate all 5 dataframes into 1 to get a balanced dataset\n",
    "undersampled = pd.concat([df_5, df_4, df_3, c2, df_1], axis=0)\n",
    "combined = undersampled\n",
    "combined.reviews_rating.value_counts().plot.bar()\n",
    "combined.reviews_rating.value_counts()"
   ]
  },
  {
   "cell_type": "code",
   "execution_count": null,
   "metadata": {},
   "outputs": [],
   "source": [
    "# perform 80-20 split on data\n",
    "from sklearn.model_selection import train_test_split\n",
    "train, test = train_test_split(combined, test_size=0.2, train_size=0.8, random_state=100) \n",
    "# random_state controls how data is being shuffled\n",
    "# ensures that data is being shuffled the same way every time the cell is being ran\n"
   ]
  },
  {
   "cell_type": "code",
   "execution_count": null,
   "metadata": {},
   "outputs": [],
   "source": [
    "train.head()"
   ]
  },
  {
   "cell_type": "markdown",
   "metadata": {},
   "source": [
    "Constructing the model"
   ]
  },
  {
   "cell_type": "code",
   "execution_count": null,
   "metadata": {},
   "outputs": [],
   "source": [
    "import tensorflow as tf\n",
    "from tensorflow.keras.preprocessing.text import Tokenizer\n",
    "from tensorflow.keras.preprocessing.sequence import pad_sequences\n",
    "import numpy as np\n",
    "\n",
    "training_sentences = train[\"reviews_text\"]\n",
    "training_labels = train[\"reviews_rating\"]\n",
    "test_sentences = test[\"reviews_text\"]\n",
    "test_labels = test[\"reviews_rating\"]\n",
    "vocab_size = 48000 # number of words that will be fed into model \n",
    "max_length = 100 #\n",
    "trunc_type='post' # \n",
    "padding_type='post' #\n",
    "oov_tok = \"<OOV>\" # placeholder if model encounters words it has never seen before in the test set\n",
    "\n",
    "# Tokenization - breaking down sentences into its individual words and assigning a number to it\n",
    "tokenizer = Tokenizer(num_words=vocab_size, oov_token=oov_tok)\n",
    "tokenizer.fit_on_texts(training_sentences)\n",
    "word_index = tokenizer.word_index # Model's 'vocabulary' learnt from training data\n",
    "\n",
    "# Sequencing - converting each sentence into its numerical equivalent\n",
    "# Padding and truncating used to make all sentences same length \n",
    "training_sequences = tokenizer.texts_to_sequences(training_sentences)\n",
    "training_padded = pad_sequences(training_sequences, maxlen=max_length, padding=padding_type,\n",
    "                               truncating=trunc_type)\n",
    "\n",
    "test_sequences = tokenizer.texts_to_sequences(test_sentences)\n",
    "test_padded = pad_sequences(test_sequences, maxlen=max_length, padding=padding_type,\n",
    "                               truncating=trunc_type)"
   ]
  },
  {
   "cell_type": "code",
   "execution_count": null,
   "metadata": {},
   "outputs": [],
   "source": [
    "tokenizer.word_docs"
   ]
  },
  {
   "cell_type": "code",
   "execution_count": null,
   "metadata": {},
   "outputs": [],
   "source": [
    "tokenizer.word_counts"
   ]
  },
  {
   "cell_type": "code",
   "execution_count": null,
   "metadata": {},
   "outputs": [],
   "source": [
    "# Need this block to get it to work with TensorFlow 2.x\n",
    "training_padded = np.array(training_padded)\n",
    "training_labels = tf.keras.utils.to_categorical(training_labels)\n",
    "test_padded = np.array(test_padded)\n",
    "test_labels = tf.keras.utils.to_categorical(test_labels)"
   ]
  },
  {
   "cell_type": "markdown",
   "metadata": {},
   "source": [
    "Model Building"
   ]
  },
  {
   "cell_type": "code",
   "execution_count": null,
   "metadata": {},
   "outputs": [],
   "source": [
    "num_of_ratings = 6 # number of possible ratings given by users: 1 to 5\n",
    "embedding_dim = 32\n",
    "# Crating a model with 3 fully connected layers:\n",
    "# 1 embedding layer to find correlation between words, 1 pooling layer, 1 layer with relu function \n",
    "model = tf.keras.Sequential([\n",
    "    tf.keras.layers.Embedding(vocab_size, embedding_dim, input_length=max_length),\n",
    "    tf.keras.layers.GlobalAveragePooling1D(),\n",
    "    tf.keras.layers.Dense(24, activation='relu'), \n",
    "    tf.keras.layers.Dense(num_of_ratings, activation='softmax')\n",
    "])\n",
    "model.compile(optimizer='adam',loss='categorical_crossentropy',metrics=['accuracy'])"
   ]
  },
  {
   "cell_type": "code",
   "execution_count": null,
   "metadata": {},
   "outputs": [],
   "source": [
    "model.summary()"
   ]
  },
  {
   "cell_type": "code",
   "execution_count": null,
   "metadata": {},
   "outputs": [],
   "source": [
    "# Training model\n",
    "\n",
    "#epochs_2 = 10\n",
    "#prediction_2 = model.fit(training_padded, training_labels, epochs=epochs_2, validation_data=(test_padded, test_labels), verbose=2)\n",
    "\n",
    "epochs_2 = 10\n",
    "history = model.fit(training_padded, training_labels, epochs=epochs_2, validation_data=(test_padded, test_labels), verbose=2)\n",
    "\n",
    "# ERROR HERE IS CAUSED BY INPUT DIMENSIONS NOT BEING COMPATIBLE WITH OUTPUT DIMENSIONS,\n",
    "# TODO: tune the values for the embedding layer "
   ]
  },
  {
   "cell_type": "code",
   "execution_count": null,
   "metadata": {},
   "outputs": [],
   "source": [
    "sentence = [\"this place was a 10/10 experience\"]\n",
    "sequences = tokenizer.texts_to_sequences(sentence)\n",
    "padded = pad_sequences(sequences, maxlen=max_length, padding=padding_type, truncating=trunc_type)\n",
    "output= model.predict(padded)\n",
    "\n",
    "print(output)\n",
    "print(\"Review:\", sentence)\n",
    "print(\"Rating:\", np.argmax(output, axis=None, out=None))"
   ]
  },
  {
   "cell_type": "code",
   "execution_count": null,
   "metadata": {},
   "outputs": [],
   "source": []
  }
 ],
 "metadata": {
  "kernelspec": {
   "display_name": "myenv",
   "language": "python",
   "name": "python3"
  },
  "language_info": {
   "codemirror_mode": {
    "name": "ipython",
    "version": 3
   },
   "file_extension": ".py",
   "mimetype": "text/x-python",
   "name": "python",
   "nbconvert_exporter": "python",
   "pygments_lexer": "ipython3",
   "version": "3.9.15"
  },
  "orig_nbformat": 4,
  "vscode": {
   "interpreter": {
    "hash": "4eb821d4ea8ffd08a4f6d5ce177763d25f34fff29c46e0e1fcf1b5f44372bda7"
   }
  }
 },
 "nbformat": 4,
 "nbformat_minor": 2
}
