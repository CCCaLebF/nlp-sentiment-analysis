{
 "cells": [
  {
   "cell_type": "markdown",
   "metadata": {},
   "source": [
    "Convert JSON to CSV"
   ]
  },
  {
   "cell_type": "code",
   "execution_count": null,
   "metadata": {},
   "outputs": [],
   "source": [
    "# Since google restaurant dataset is in json format, use pandas to convert it into a CSV file\n",
    "# DO NOT RERUN\n",
    "import pandas as pd \n",
    "df = pd.read_json(r'E:\\AIEBA Datasets\\Proj1 Datasets\\GoogleRestaurantReview.json', lines=True)\n",
    "df.to_csv(r'E:\\AIEBA Datasets\\Proj1 Datasets\\GoogleRestaurantReview.csv', index = None)"
   ]
  },
  {
   "cell_type": "markdown",
   "metadata": {},
   "source": [
    "Formatting of Data"
   ]
  },
  {
   "cell_type": "code",
   "execution_count": 1,
   "metadata": {},
   "outputs": [],
   "source": [
    "# Load in all three datasets\n",
    "# .csv files use the utf-8 encodings\n",
    "import pandas as pd\n",
    "\n",
    "#amzn = pd.read_csv(r'E:\\AIEBA Datasets\\Proj1 Datasets\\AmazonReviews.csv',encoding='utf-8',engine='python')\n",
    "#googl = pd.read_csv(r'E:\\AIEBA Datasets\\Proj1 Datasets\\GoogleRestaurantReview.csv',encoding='utf-8',engine='python')\n",
    "#dis = pd.read_csv(r'E:\\AIEBA Datasets\\Proj1 Datasets\\DisneylandReviews.csv',encoding='utf-8',engine='python')\n",
    "\n",
    "amzn = pd.read_csv(r'C:\\AIEBA Datasets\\Proj1 Datasets\\AmazonReviews.csv',encoding='utf-8',engine='python')\n",
    "googl = pd.read_csv(r'C:\\AIEBA Datasets\\Proj1 Datasets\\GoogleRestaurantReview.csv',encoding='utf-8',engine='python')\n",
    "dis = pd.read_csv(r'C:\\AIEBA Datasets\\Proj1 Datasets\\DisneylandReviews.csv',encoding='utf-8',engine='python')"
   ]
  },
  {
   "cell_type": "code",
   "execution_count": null,
   "metadata": {},
   "outputs": [],
   "source": [
    "amzn.head()"
   ]
  },
  {
   "cell_type": "code",
   "execution_count": null,
   "metadata": {},
   "outputs": [],
   "source": [
    "googl.head()"
   ]
  },
  {
   "cell_type": "code",
   "execution_count": null,
   "metadata": {},
   "outputs": [],
   "source": [
    "dis.head()"
   ]
  },
  {
   "cell_type": "code",
   "execution_count": 2,
   "metadata": {},
   "outputs": [
    {
     "data": {
      "text/html": [
       "<div>\n",
       "<style scoped>\n",
       "    .dataframe tbody tr th:only-of-type {\n",
       "        vertical-align: middle;\n",
       "    }\n",
       "\n",
       "    .dataframe tbody tr th {\n",
       "        vertical-align: top;\n",
       "    }\n",
       "\n",
       "    .dataframe thead th {\n",
       "        text-align: right;\n",
       "    }\n",
       "</style>\n",
       "<table border=\"1\" class=\"dataframe\">\n",
       "  <thead>\n",
       "    <tr style=\"text-align: right;\">\n",
       "      <th></th>\n",
       "      <th>reviews_rating</th>\n",
       "      <th>reviews_text</th>\n",
       "    </tr>\n",
       "  </thead>\n",
       "  <tbody>\n",
       "    <tr>\n",
       "      <th>0</th>\n",
       "      <td>5.0</td>\n",
       "      <td>This $product so far has not%&amp;^# disappointed....</td>\n",
       "    </tr>\n",
       "    <tr>\n",
       "      <th>1</th>\n",
       "      <td>5.0</td>\n",
       "      <td>great for beginner or experienced person. Boug...</td>\n",
       "    </tr>\n",
       "    <tr>\n",
       "      <th>2</th>\n",
       "      <td>5.0</td>\n",
       "      <td>Inexpensive tablet for him to use and learn on...</td>\n",
       "    </tr>\n",
       "    <tr>\n",
       "      <th>3</th>\n",
       "      <td>4.0</td>\n",
       "      <td>I've had my Fire HD 8 two weeks now and I love...</td>\n",
       "    </tr>\n",
       "    <tr>\n",
       "      <th>4</th>\n",
       "      <td>5.0</td>\n",
       "      <td>I bought this for my grand daughter when she c...</td>\n",
       "    </tr>\n",
       "  </tbody>\n",
       "</table>\n",
       "</div>"
      ],
      "text/plain": [
       "   reviews_rating                                       reviews_text\n",
       "0             5.0  This $product so far has not%&^# disappointed....\n",
       "1             5.0  great for beginner or experienced person. Boug...\n",
       "2             5.0  Inexpensive tablet for him to use and learn on...\n",
       "3             4.0  I've had my Fire HD 8 two weeks now and I love...\n",
       "4             5.0  I bought this for my grand daughter when she c..."
      ]
     },
     "execution_count": 2,
     "metadata": {},
     "output_type": "execute_result"
    }
   ],
   "source": [
    "# Drop columns that are not needed and standardize column names\n",
    "amzn = amzn.filter(items=['reviews.rating', 'reviews.text'])\n",
    "amzn = amzn.rename(columns={\"reviews.rating\":\"reviews_rating\", \"reviews.text\":\"reviews_text\"})\n",
    "\n",
    "googl = googl.filter(items=['rating', 'review_text'])\n",
    "googl = googl.rename(columns={\"rating\":\"reviews_rating\", \"review_text\":\"reviews_text\"})\n",
    "\n",
    "dis = dis.filter(items=['Rating','Review_Text'])\n",
    "dis = dis.rename(columns={\"Rating\":\"reviews_rating\", \"Review_Text\":\"reviews_text\"})\n",
    "\n",
    "amzn.head()"
   ]
  },
  {
   "cell_type": "code",
   "execution_count": 3,
   "metadata": {},
   "outputs": [
    {
     "data": {
      "text/html": [
       "<div>\n",
       "<style scoped>\n",
       "    .dataframe tbody tr th:only-of-type {\n",
       "        vertical-align: middle;\n",
       "    }\n",
       "\n",
       "    .dataframe tbody tr th {\n",
       "        vertical-align: top;\n",
       "    }\n",
       "\n",
       "    .dataframe thead th {\n",
       "        text-align: right;\n",
       "    }\n",
       "</style>\n",
       "<table border=\"1\" class=\"dataframe\">\n",
       "  <thead>\n",
       "    <tr style=\"text-align: right;\">\n",
       "      <th></th>\n",
       "      <th>reviews_rating</th>\n",
       "      <th>reviews_text</th>\n",
       "    </tr>\n",
       "  </thead>\n",
       "  <tbody>\n",
       "    <tr>\n",
       "      <th>0</th>\n",
       "      <td>5.0</td>\n",
       "      <td>This $product so far has not%&amp;^# disappointed....</td>\n",
       "    </tr>\n",
       "    <tr>\n",
       "      <th>1</th>\n",
       "      <td>5.0</td>\n",
       "      <td>great for beginner or experienced person. Boug...</td>\n",
       "    </tr>\n",
       "    <tr>\n",
       "      <th>2</th>\n",
       "      <td>5.0</td>\n",
       "      <td>Inexpensive tablet for him to use and learn on...</td>\n",
       "    </tr>\n",
       "    <tr>\n",
       "      <th>3</th>\n",
       "      <td>4.0</td>\n",
       "      <td>I've had my Fire HD 8 two weeks now and I love...</td>\n",
       "    </tr>\n",
       "    <tr>\n",
       "      <th>4</th>\n",
       "      <td>5.0</td>\n",
       "      <td>I bought this for my grand daughter when she c...</td>\n",
       "    </tr>\n",
       "    <tr>\n",
       "      <th>...</th>\n",
       "      <td>...</td>\n",
       "      <td>...</td>\n",
       "    </tr>\n",
       "    <tr>\n",
       "      <th>1125886</th>\n",
       "      <td>5.0</td>\n",
       "      <td>i went to disneyland paris in july 03 and thou...</td>\n",
       "    </tr>\n",
       "    <tr>\n",
       "      <th>1125887</th>\n",
       "      <td>5.0</td>\n",
       "      <td>2 adults and 1 child of 11 visited Disneyland ...</td>\n",
       "    </tr>\n",
       "    <tr>\n",
       "      <th>1125888</th>\n",
       "      <td>5.0</td>\n",
       "      <td>My eleven year old daughter and myself went to...</td>\n",
       "    </tr>\n",
       "    <tr>\n",
       "      <th>1125889</th>\n",
       "      <td>4.0</td>\n",
       "      <td>This hotel, part of the Disneyland Paris compl...</td>\n",
       "    </tr>\n",
       "    <tr>\n",
       "      <th>1125890</th>\n",
       "      <td>4.0</td>\n",
       "      <td>I went to the Disneyparis resort, in 1996, wit...</td>\n",
       "    </tr>\n",
       "  </tbody>\n",
       "</table>\n",
       "<p>1125891 rows × 2 columns</p>\n",
       "</div>"
      ],
      "text/plain": [
       "         reviews_rating                                       reviews_text\n",
       "0                   5.0  This $product so far has not%&^# disappointed....\n",
       "1                   5.0  great for beginner or experienced person. Boug...\n",
       "2                   5.0  Inexpensive tablet for him to use and learn on...\n",
       "3                   4.0  I've had my Fire HD 8 two weeks now and I love...\n",
       "4                   5.0  I bought this for my grand daughter when she c...\n",
       "...                 ...                                                ...\n",
       "1125886             5.0  i went to disneyland paris in july 03 and thou...\n",
       "1125887             5.0  2 adults and 1 child of 11 visited Disneyland ...\n",
       "1125888             5.0  My eleven year old daughter and myself went to...\n",
       "1125889             4.0  This hotel, part of the Disneyland Paris compl...\n",
       "1125890             4.0  I went to the Disneyparis resort, in 1996, wit...\n",
       "\n",
       "[1125891 rows x 2 columns]"
      ]
     },
     "execution_count": 3,
     "metadata": {},
     "output_type": "execute_result"
    }
   ],
   "source": [
    "# Concatenate all 3 datasets by column\n",
    "combined = pd.concat([amzn, googl, dis], ignore_index=True)\n",
    "combined"
   ]
  },
  {
   "cell_type": "markdown",
   "metadata": {},
   "source": [
    "Data Cleansing and preprocessing"
   ]
  },
  {
   "cell_type": "code",
   "execution_count": 4,
   "metadata": {},
   "outputs": [
    {
     "name": "stdout",
     "output_type": "stream",
     "text": [
      "reviews_rating    55\n",
      "reviews_text      16\n",
      "dtype: int64\n"
     ]
    }
   ],
   "source": [
    "# remove rows with missing values\n",
    "print(combined.isnull().sum())\n",
    "combined = combined.dropna()"
   ]
  },
  {
   "cell_type": "code",
   "execution_count": 5,
   "metadata": {},
   "outputs": [
    {
     "name": "stdout",
     "output_type": "stream",
     "text": [
      "reviews_rating    0\n",
      "reviews_text      0\n",
      "dtype: int64\n"
     ]
    }
   ],
   "source": [
    "#missing values removed \n",
    "print(combined.isnull().sum())"
   ]
  },
  {
   "cell_type": "code",
   "execution_count": null,
   "metadata": {},
   "outputs": [],
   "source": [
    "combined[\"reviews_rating\"].value_counts().plot.bar()\n",
    "combined[\"reviews_rating\"].value_counts(ascending=True)"
   ]
  },
  {
   "cell_type": "code",
   "execution_count": 6,
   "metadata": {},
   "outputs": [
    {
     "data": {
      "text/html": [
       "<div>\n",
       "<style scoped>\n",
       "    .dataframe tbody tr th:only-of-type {\n",
       "        vertical-align: middle;\n",
       "    }\n",
       "\n",
       "    .dataframe tbody tr th {\n",
       "        vertical-align: top;\n",
       "    }\n",
       "\n",
       "    .dataframe thead th {\n",
       "        text-align: right;\n",
       "    }\n",
       "</style>\n",
       "<table border=\"1\" class=\"dataframe\">\n",
       "  <thead>\n",
       "    <tr style=\"text-align: right;\">\n",
       "      <th></th>\n",
       "      <th>reviews_rating</th>\n",
       "      <th>reviews_text</th>\n",
       "    </tr>\n",
       "  </thead>\n",
       "  <tbody>\n",
       "    <tr>\n",
       "      <th>767720</th>\n",
       "      <td>5.0</td>\n",
       "      <td>Brought a bus load of 32 in, Dave answered the...</td>\n",
       "    </tr>\n",
       "    <tr>\n",
       "      <th>667366</th>\n",
       "      <td>5.0</td>\n",
       "      <td>One of the most memorable dining experiences i...</td>\n",
       "    </tr>\n",
       "    <tr>\n",
       "      <th>520376</th>\n",
       "      <td>5.0</td>\n",
       "      <td>Excellent place for breakfast lunch and dinner...</td>\n",
       "    </tr>\n",
       "    <tr>\n",
       "      <th>731701</th>\n",
       "      <td>5.0</td>\n",
       "      <td>Always a great place for breakfast</td>\n",
       "    </tr>\n",
       "    <tr>\n",
       "      <th>943168</th>\n",
       "      <td>5.0</td>\n",
       "      <td>Tasty &amp; Juicy Classic burger. Friendly staff. ...</td>\n",
       "    </tr>\n",
       "    <tr>\n",
       "      <th>...</th>\n",
       "      <td>...</td>\n",
       "      <td>...</td>\n",
       "    </tr>\n",
       "    <tr>\n",
       "      <th>822912</th>\n",
       "      <td>1.0</td>\n",
       "      <td>Terrible. Place got so overpriced. Selling 12o...</td>\n",
       "    </tr>\n",
       "    <tr>\n",
       "      <th>769163</th>\n",
       "      <td>1.0</td>\n",
       "      <td>We came for happy hour, my first margarita the...</td>\n",
       "    </tr>\n",
       "    <tr>\n",
       "      <th>566524</th>\n",
       "      <td>1.0</td>\n",
       "      <td>On January 14 at 5:45 PM I ordered this meal. ...</td>\n",
       "    </tr>\n",
       "    <tr>\n",
       "      <th>456905</th>\n",
       "      <td>1.0</td>\n",
       "      <td>Horrible drive thru service. 27 minutes and co...</td>\n",
       "    </tr>\n",
       "    <tr>\n",
       "      <th>544926</th>\n",
       "      <td>1.0</td>\n",
       "      <td>Eating is not clean and bad staffðŸ¤®ðŸ’©ðŸ¤®</td>\n",
       "    </tr>\n",
       "  </tbody>\n",
       "</table>\n",
       "<p>150460 rows × 2 columns</p>\n",
       "</div>"
      ],
      "text/plain": [
       "        reviews_rating                                       reviews_text\n",
       "767720             5.0  Brought a bus load of 32 in, Dave answered the...\n",
       "667366             5.0  One of the most memorable dining experiences i...\n",
       "520376             5.0  Excellent place for breakfast lunch and dinner...\n",
       "731701             5.0                 Always a great place for breakfast\n",
       "943168             5.0  Tasty & Juicy Classic burger. Friendly staff. ...\n",
       "...                ...                                                ...\n",
       "822912             1.0  Terrible. Place got so overpriced. Selling 12o...\n",
       "769163             1.0  We came for happy hour, my first margarita the...\n",
       "566524             1.0  On January 14 at 5:45 PM I ordered this meal. ...\n",
       "456905             1.0  Horrible drive thru service. 27 minutes and co...\n",
       "544926             1.0      Eating is not clean and bad staffðŸ¤®ðŸ’©ðŸ¤®\n",
       "\n",
       "[150460 rows x 2 columns]"
      ]
     },
     "execution_count": 6,
     "metadata": {},
     "output_type": "execute_result"
    },
    {
     "data": {
      "image/png": "[encoded data removed]",
      "text/plain": [
       "<Figure size 640x480 with 1 Axes>"
      ]
     },
     "metadata": {},
     "output_type": "display_data"
    }
   ],
   "source": [
    "# perform undersampling to get balanced dataset\n",
    "\n",
    "least_class_amount, class_1, class_3, class_4, class_5 = combined.reviews_rating.value_counts(ascending=True)\n",
    "\n",
    "# create separate dataframes for each rating\n",
    "c5 = combined[combined[\"reviews_rating\"] == 5.0]\n",
    "c4 = combined[combined[\"reviews_rating\"] == 4.0]\n",
    "c3 = combined[combined[\"reviews_rating\"] == 3.0]\n",
    "c2 = combined[combined[\"reviews_rating\"] == 2.0]\n",
    "c1 = combined[combined[\"reviews_rating\"] == 1.0]\n",
    "\n",
    "# randomly remove data to in each dataframe to match the number of rows in c2 which has the least amount of data\n",
    "df_5 = c5.sample(least_class_amount, random_state=100)\n",
    "df_4 = c4.sample(least_class_amount, random_state=100)\n",
    "df_3 = c3.sample(least_class_amount, random_state=100)\n",
    "df_1 = c1.sample(least_class_amount, random_state=100)\n",
    "\n",
    "# concatenate all 5 dataframes into 1\n",
    "undersampled = pd.concat([df_5, df_4, df_3, c2, df_1], axis=0)\n",
    "combined = undersampled\n",
    "combined.reviews_rating.value_counts().plot.bar()\n",
    "combined.reviews_rating.value_counts()\n",
    "combined"
   ]
  },
  {
   "cell_type": "code",
   "execution_count": 7,
   "metadata": {},
   "outputs": [],
   "source": [
    "# remove non-ascii characters\n",
    "combined[\"reviews_text\"] = combined[\"reviews_text\"].str.encode('ascii', 'ignore').str.decode('ascii')"
   ]
  },
  {
   "cell_type": "code",
   "execution_count": 8,
   "metadata": {},
   "outputs": [
    {
     "data": {
      "text/html": [
       "<div>\n",
       "<style scoped>\n",
       "    .dataframe tbody tr th:only-of-type {\n",
       "        vertical-align: middle;\n",
       "    }\n",
       "\n",
       "    .dataframe tbody tr th {\n",
       "        vertical-align: top;\n",
       "    }\n",
       "\n",
       "    .dataframe thead th {\n",
       "        text-align: right;\n",
       "    }\n",
       "</style>\n",
       "<table border=\"1\" class=\"dataframe\">\n",
       "  <thead>\n",
       "    <tr style=\"text-align: right;\">\n",
       "      <th></th>\n",
       "      <th>reviews_rating</th>\n",
       "      <th>reviews_text</th>\n",
       "    </tr>\n",
       "  </thead>\n",
       "  <tbody>\n",
       "    <tr>\n",
       "      <th>767720</th>\n",
       "      <td>5.0</td>\n",
       "      <td>brought a bus load of  in dave answered the ph...</td>\n",
       "    </tr>\n",
       "    <tr>\n",
       "      <th>667366</th>\n",
       "      <td>5.0</td>\n",
       "      <td>one of the most memorable dining experiences i...</td>\n",
       "    </tr>\n",
       "    <tr>\n",
       "      <th>520376</th>\n",
       "      <td>5.0</td>\n",
       "      <td>excellent place for breakfast lunch and dinner...</td>\n",
       "    </tr>\n",
       "    <tr>\n",
       "      <th>731701</th>\n",
       "      <td>5.0</td>\n",
       "      <td>always a great place for breakfast</td>\n",
       "    </tr>\n",
       "    <tr>\n",
       "      <th>943168</th>\n",
       "      <td>5.0</td>\n",
       "      <td>tasty  juicy classic burger friendly staff goo...</td>\n",
       "    </tr>\n",
       "    <tr>\n",
       "      <th>...</th>\n",
       "      <td>...</td>\n",
       "      <td>...</td>\n",
       "    </tr>\n",
       "    <tr>\n",
       "      <th>822912</th>\n",
       "      <td>1.0</td>\n",
       "      <td>terrible place got so overpriced selling oz so...</td>\n",
       "    </tr>\n",
       "    <tr>\n",
       "      <th>769163</th>\n",
       "      <td>1.0</td>\n",
       "      <td>we came for happy hour my first margarita ther...</td>\n",
       "    </tr>\n",
       "    <tr>\n",
       "      <th>566524</th>\n",
       "      <td>1.0</td>\n",
       "      <td>on january  at  pm i ordered this meal i menti...</td>\n",
       "    </tr>\n",
       "    <tr>\n",
       "      <th>456905</th>\n",
       "      <td>1.0</td>\n",
       "      <td>horrible drive thru service  minutes and counting</td>\n",
       "    </tr>\n",
       "    <tr>\n",
       "      <th>544926</th>\n",
       "      <td>1.0</td>\n",
       "      <td>eating is not clean and bad staff</td>\n",
       "    </tr>\n",
       "  </tbody>\n",
       "</table>\n",
       "<p>150460 rows × 2 columns</p>\n",
       "</div>"
      ],
      "text/plain": [
       "        reviews_rating                                       reviews_text\n",
       "767720             5.0  brought a bus load of  in dave answered the ph...\n",
       "667366             5.0  one of the most memorable dining experiences i...\n",
       "520376             5.0  excellent place for breakfast lunch and dinner...\n",
       "731701             5.0                 always a great place for breakfast\n",
       "943168             5.0  tasty  juicy classic burger friendly staff goo...\n",
       "...                ...                                                ...\n",
       "822912             1.0  terrible place got so overpriced selling oz so...\n",
       "769163             1.0  we came for happy hour my first margarita ther...\n",
       "566524             1.0  on january  at  pm i ordered this meal i menti...\n",
       "456905             1.0  horrible drive thru service  minutes and counting\n",
       "544926             1.0                  eating is not clean and bad staff\n",
       "\n",
       "[150460 rows x 2 columns]"
      ]
     },
     "execution_count": 8,
     "metadata": {},
     "output_type": "execute_result"
    }
   ],
   "source": [
    "# using regular expressions to remove unwanted characters and punctuations\n",
    "import re\n",
    "\n",
    "def cleanup(sentence):\n",
    "  sentence = str(sentence).lower()\n",
    "  sentence = cleanup_re.sub('',sentence).strip() \n",
    "  sentence = re.sub('[\\d]','',sentence) # remove all digits and numbers\n",
    "  return sentence\n",
    "  \n",
    "cleanup_re = re.compile('[^\\w\\s]') # match whitespaces words only\n",
    "combined[\"reviews_text\"] = combined[\"reviews_text\"].apply(cleanup)\n",
    "combined"
   ]
  },
  {
   "cell_type": "code",
   "execution_count": 9,
   "metadata": {},
   "outputs": [
    {
     "data": {
      "text/html": [
       "<div>\n",
       "<style scoped>\n",
       "    .dataframe tbody tr th:only-of-type {\n",
       "        vertical-align: middle;\n",
       "    }\n",
       "\n",
       "    .dataframe tbody tr th {\n",
       "        vertical-align: top;\n",
       "    }\n",
       "\n",
       "    .dataframe thead th {\n",
       "        text-align: right;\n",
       "    }\n",
       "</style>\n",
       "<table border=\"1\" class=\"dataframe\">\n",
       "  <thead>\n",
       "    <tr style=\"text-align: right;\">\n",
       "      <th></th>\n",
       "      <th>reviews_rating</th>\n",
       "      <th>reviews_text</th>\n",
       "    </tr>\n",
       "  </thead>\n",
       "  <tbody>\n",
       "    <tr>\n",
       "      <th>767720</th>\n",
       "      <td>5.0</td>\n",
       "      <td>brought bus load dave answered phone minutes g...</td>\n",
       "    </tr>\n",
       "    <tr>\n",
       "      <th>667366</th>\n",
       "      <td>5.0</td>\n",
       "      <td>one memorable dining experiences austin many d...</td>\n",
       "    </tr>\n",
       "    <tr>\n",
       "      <th>520376</th>\n",
       "      <td>5.0</td>\n",
       "      <td>excellent place breakfast lunch dinner would h...</td>\n",
       "    </tr>\n",
       "    <tr>\n",
       "      <th>731701</th>\n",
       "      <td>5.0</td>\n",
       "      <td>always great place breakfast</td>\n",
       "    </tr>\n",
       "    <tr>\n",
       "      <th>943168</th>\n",
       "      <td>5.0</td>\n",
       "      <td>tasty juicy classic burger friendly staff good...</td>\n",
       "    </tr>\n",
       "    <tr>\n",
       "      <th>...</th>\n",
       "      <td>...</td>\n",
       "      <td>...</td>\n",
       "    </tr>\n",
       "    <tr>\n",
       "      <th>822912</th>\n",
       "      <td>1.0</td>\n",
       "      <td>terrible place got overpriced selling oz soup ...</td>\n",
       "    </tr>\n",
       "    <tr>\n",
       "      <th>769163</th>\n",
       "      <td>1.0</td>\n",
       "      <td>came happy hour first margarita no alcohol sis...</td>\n",
       "    </tr>\n",
       "    <tr>\n",
       "      <th>566524</th>\n",
       "      <td>1.0</td>\n",
       "      <td>january pm ordered meal mentioned people pleas...</td>\n",
       "    </tr>\n",
       "    <tr>\n",
       "      <th>456905</th>\n",
       "      <td>1.0</td>\n",
       "      <td>horrible drive thru service minutes counting</td>\n",
       "    </tr>\n",
       "    <tr>\n",
       "      <th>544926</th>\n",
       "      <td>1.0</td>\n",
       "      <td>eating not clean bad staff</td>\n",
       "    </tr>\n",
       "  </tbody>\n",
       "</table>\n",
       "<p>150460 rows × 2 columns</p>\n",
       "</div>"
      ],
      "text/plain": [
       "        reviews_rating                                       reviews_text\n",
       "767720             5.0  brought bus load dave answered phone minutes g...\n",
       "667366             5.0  one memorable dining experiences austin many d...\n",
       "520376             5.0  excellent place breakfast lunch dinner would h...\n",
       "731701             5.0                       always great place breakfast\n",
       "943168             5.0  tasty juicy classic burger friendly staff good...\n",
       "...                ...                                                ...\n",
       "822912             1.0  terrible place got overpriced selling oz soup ...\n",
       "769163             1.0  came happy hour first margarita no alcohol sis...\n",
       "566524             1.0  january pm ordered meal mentioned people pleas...\n",
       "456905             1.0       horrible drive thru service minutes counting\n",
       "544926             1.0                         eating not clean bad staff\n",
       "\n",
       "[150460 rows x 2 columns]"
      ]
     },
     "execution_count": 9,
     "metadata": {},
     "output_type": "execute_result"
    }
   ],
   "source": [
    "# remove stopwords \n",
    "import nltk\n",
    "from nltk.corpus import stopwords\n",
    "\n",
    "def remove_stopwords(sentence):\n",
    "  sentence = sentence.split()\n",
    "  sentence = [word for word in sentence if word not in stoplist]\n",
    "  sentence = ' '.join(sentence)\n",
    "  return sentence\n",
    "    \n",
    "\n",
    "def custom_stoplist():\n",
    "  stop_words = set(stopwords.words('english'))\n",
    "  wanted_stopwords = {'not', 'nor', 'no', 'have', 'has', 'had', 'having', 'do', 'does', 'did', 'very'} # stopwords that can change a sentence's meaning\n",
    "  stoplist = stop_words - wanted_stopwords\n",
    "  return stoplist\n",
    "\n",
    "stoplist = custom_stoplist()\n",
    "combined[\"reviews_text\"] = combined[\"reviews_text\"].apply(remove_stopwords)\n",
    "combined"
   ]
  },
  {
   "cell_type": "code",
   "execution_count": null,
   "metadata": {},
   "outputs": [],
   "source": [
    "combined[\"reviews_rating\"].value_counts().plot.bar()\n",
    "combined[\"reviews_rating\"].value_counts(ascending=True)"
   ]
  },
  {
   "cell_type": "code",
   "execution_count": 10,
   "metadata": {},
   "outputs": [
    {
     "data": {
      "text/html": [
       "<div>\n",
       "<style scoped>\n",
       "    .dataframe tbody tr th:only-of-type {\n",
       "        vertical-align: middle;\n",
       "    }\n",
       "\n",
       "    .dataframe tbody tr th {\n",
       "        vertical-align: top;\n",
       "    }\n",
       "\n",
       "    .dataframe thead th {\n",
       "        text-align: right;\n",
       "    }\n",
       "</style>\n",
       "<table border=\"1\" class=\"dataframe\">\n",
       "  <thead>\n",
       "    <tr style=\"text-align: right;\">\n",
       "      <th></th>\n",
       "      <th>reviews_rating</th>\n",
       "      <th>reviews_text</th>\n",
       "    </tr>\n",
       "  </thead>\n",
       "  <tbody>\n",
       "    <tr>\n",
       "      <th>1020326</th>\n",
       "      <td>1.0</td>\n",
       "      <td>horrible rude service sat mins waitress never ...</td>\n",
       "    </tr>\n",
       "    <tr>\n",
       "      <th>810795</th>\n",
       "      <td>1.0</td>\n",
       "      <td>sonic supposed fast location slowest serving l...</td>\n",
       "    </tr>\n",
       "    <tr>\n",
       "      <th>1012916</th>\n",
       "      <td>5.0</td>\n",
       "      <td>great brunch place view</td>\n",
       "    </tr>\n",
       "    <tr>\n",
       "      <th>693067</th>\n",
       "      <td>1.0</td>\n",
       "      <td>super duper slow app sucks triggered</td>\n",
       "    </tr>\n",
       "    <tr>\n",
       "      <th>122049</th>\n",
       "      <td>3.0</td>\n",
       "      <td>customer service excellent tacos little greasy...</td>\n",
       "    </tr>\n",
       "    <tr>\n",
       "      <th>...</th>\n",
       "      <td>...</td>\n",
       "      <td>...</td>\n",
       "    </tr>\n",
       "    <tr>\n",
       "      <th>523613</th>\n",
       "      <td>3.0</td>\n",
       "      <td>absolutely loved hoagie oil everything fryed t...</td>\n",
       "    </tr>\n",
       "    <tr>\n",
       "      <th>317484</th>\n",
       "      <td>3.0</td>\n",
       "      <td>neat ambiance overall fries great burger absol...</td>\n",
       "    </tr>\n",
       "    <tr>\n",
       "      <th>822956</th>\n",
       "      <td>3.0</td>\n",
       "      <td>attention great food stunninghowever got table...</td>\n",
       "    </tr>\n",
       "    <tr>\n",
       "      <th>1005814</th>\n",
       "      <td>4.0</td>\n",
       "      <td>youre looking gluten free dairy free healthier...</td>\n",
       "    </tr>\n",
       "    <tr>\n",
       "      <th>6865</th>\n",
       "      <td>4.0</td>\n",
       "      <td>kindle fire good deal basically use amazon pur...</td>\n",
       "    </tr>\n",
       "  </tbody>\n",
       "</table>\n",
       "<p>120368 rows × 2 columns</p>\n",
       "</div>"
      ],
      "text/plain": [
       "         reviews_rating                                       reviews_text\n",
       "1020326             1.0  horrible rude service sat mins waitress never ...\n",
       "810795              1.0  sonic supposed fast location slowest serving l...\n",
       "1012916             5.0                            great brunch place view\n",
       "693067              1.0               super duper slow app sucks triggered\n",
       "122049              3.0  customer service excellent tacos little greasy...\n",
       "...                 ...                                                ...\n",
       "523613              3.0  absolutely loved hoagie oil everything fryed t...\n",
       "317484              3.0  neat ambiance overall fries great burger absol...\n",
       "822956              3.0  attention great food stunninghowever got table...\n",
       "1005814             4.0  youre looking gluten free dairy free healthier...\n",
       "6865                4.0  kindle fire good deal basically use amazon pur...\n",
       "\n",
       "[120368 rows x 2 columns]"
      ]
     },
     "execution_count": 10,
     "metadata": {},
     "output_type": "execute_result"
    }
   ],
   "source": [
    "# perform 80-20 split on data\n",
    "from sklearn.model_selection import train_test_split\n",
    "train, test = train_test_split(combined, test_size=0.2, train_size=0.8, random_state=100) \n",
    "# random_state controls how data is being shuffled\n",
    "# ensures that data is being shuffled the same way every time the cell is being ran\n",
    "train\n"
   ]
  },
  {
   "cell_type": "markdown",
   "metadata": {},
   "source": [
    "Constructing the model"
   ]
  },
  {
   "cell_type": "code",
   "execution_count": 11,
   "metadata": {},
   "outputs": [],
   "source": [
    "import tensorflow as tf\n",
    "from tensorflow.keras.preprocessing.text import Tokenizer\n",
    "from tensorflow.keras.preprocessing.sequence import pad_sequences\n",
    "import numpy as np\n",
    "\n",
    "\n",
    "def remove_stopwords():\n",
    "  import nltk\n",
    "  from nltk.corpus import stopwords\n",
    "  stop_words = set(stopwords.words('english'))\n",
    "  print(stop_words)\n",
    "\n",
    "\n",
    "training_sentences = train[\"reviews_text\"].tolist()\n",
    "training_labels = train[\"reviews_rating\"].tolist()\n",
    "test_sentences = test[\"reviews_text\"].tolist()\n",
    "test_labels = test[\"reviews_rating\"].tolist()\n",
    "vocab_size = 20000 # number of words that will be fed into model \n",
    "max_length = 100 #\n",
    "trunc_type='post' # \n",
    "padding_type='post' #\n",
    "oov_tok = \"<OOV>\" # placeholder if model encounters words it has never seen before in the test set\n",
    "\n",
    "# Tokenization - breaking down sentences into its individual words and assigning a number to it\n",
    "tokenizer = Tokenizer(num_words=vocab_size, filters='!\"#$%&()*+,-./:;<=>?@[\\\\]^_`{|}~\\t\\n',oov_token=oov_tok)\n",
    "tokenizer.fit_on_texts(training_sentences)\n",
    "word_index = tokenizer.word_index # Model's 'vocabulary' learnt from training data\n",
    "\n",
    "# Sequencing - converting each sentence into its numerical equivalent\n",
    "# Padding and truncating used to make all sentences same length \n",
    "training_sequences = tokenizer.texts_to_sequences(training_sentences)\n",
    "training_padded = pad_sequences(training_sequences, maxlen=max_length, padding=padding_type,\n",
    "                               truncating=trunc_type)\n",
    "\n",
    "test_sequences = tokenizer.texts_to_sequences(test_sentences)\n",
    "test_padded = pad_sequences(test_sequences, maxlen=max_length, padding=padding_type,\n",
    "                               truncating=trunc_type)"
   ]
  },
  {
   "cell_type": "code",
   "execution_count": null,
   "metadata": {},
   "outputs": [],
   "source": [
    "tokenizer.word_docs"
   ]
  },
  {
   "cell_type": "code",
   "execution_count": null,
   "metadata": {},
   "outputs": [],
   "source": [
    "print(len(word_index))"
   ]
  },
  {
   "cell_type": "code",
   "execution_count": 12,
   "metadata": {},
   "outputs": [],
   "source": [
    "# Need this block to get it to work with TensorFlow 2.x\n",
    "training_padded = np.array(training_padded)\n",
    "training_labels = tf.keras.utils.to_categorical(training_labels)\n",
    "test_padded = np.array(test_padded)\n",
    "test_labels = tf.keras.utils.to_categorical(test_labels)"
   ]
  },
  {
   "cell_type": "markdown",
   "metadata": {},
   "source": [
    "Model Building"
   ]
  },
  {
   "cell_type": "code",
   "execution_count": 15,
   "metadata": {},
   "outputs": [],
   "source": [
    "import keras\n",
    "num_of_ratings = 6 # number of possible ratings given by users: 1 to 5\n",
    "embeding_dim = 104\n",
    "model = keras.Sequential()\n",
    "model.add(keras.layers.Embedding(vocab_size, embeding_dim, input_length=max_length))\n",
    "model.add(keras.layers.Conv1D(97,96,activation='relu'))\n",
    "model.add(keras.layers.GlobalAveragePooling1D())\n",
    "model.add(keras.layers.Dense(80, activation='relu')) \n",
    "model.add(keras.layers.Dense(50, activation='relu')) \n",
    "model.add(keras.layers.Dense(num_of_ratings, activation='softmax'))                                                                        \n",
    "\n",
    "model.compile(optimizer=keras.optimizers.Adam(learning_rate=0.001),loss='categorical_crossentropy',metrics=['accuracy'])\n"
   ]
  },
  {
   "cell_type": "code",
   "execution_count": 16,
   "metadata": {},
   "outputs": [
    {
     "name": "stdout",
     "output_type": "stream",
     "text": [
      "Epoch 1/10\n",
      "3762/3762 - 250s - loss: 1.0556 - accuracy: 0.5281 - val_loss: 1.0065 - val_accuracy: 0.5526 - 250s/epoch - 66ms/step\n",
      "Epoch 2/10\n",
      "3762/3762 - 256s - loss: 0.8800 - accuracy: 0.6166 - val_loss: 1.0219 - val_accuracy: 0.5603 - 256s/epoch - 68ms/step\n",
      "Epoch 3/10\n",
      "3762/3762 - 253s - loss: 0.6669 - accuracy: 0.7178 - val_loss: 1.2611 - val_accuracy: 0.5409 - 253s/epoch - 67ms/step\n",
      "Epoch 4/10\n",
      "3762/3762 - 280s - loss: 0.4917 - accuracy: 0.7998 - val_loss: 1.6136 - val_accuracy: 0.5305 - 280s/epoch - 74ms/step\n",
      "Epoch 5/10\n"
     ]
    },
    {
     "ename": "KeyboardInterrupt",
     "evalue": "",
     "output_type": "error",
     "traceback": [
      "\u001b[1;31m---------------------------------------------------------------------------\u001b[0m",
      "\u001b[1;31mKeyboardInterrupt\u001b[0m                         Traceback (most recent call last)",
      "Cell \u001b[1;32mIn [16], line 7\u001b[0m\n\u001b[0;32m      1\u001b[0m \u001b[39m# Training model\u001b[39;00m\n\u001b[0;32m      2\u001b[0m \n\u001b[0;32m      3\u001b[0m \u001b[39m#epochs_2 = 10\u001b[39;00m\n\u001b[0;32m      4\u001b[0m \u001b[39m#prediction_2 = model.fit(training_padded, training_labels, epochs=epochs_2, validation_data=(test_padded, test_labels), verbose=2)\u001b[39;00m\n\u001b[0;32m      6\u001b[0m epochs_2 \u001b[39m=\u001b[39m \u001b[39m10\u001b[39m\n\u001b[1;32m----> 7\u001b[0m history \u001b[39m=\u001b[39m model\u001b[39m.\u001b[39;49mfit(training_padded, training_labels, epochs\u001b[39m=\u001b[39;49mepochs_2, validation_data\u001b[39m=\u001b[39;49m(test_padded, test_labels), verbose\u001b[39m=\u001b[39;49m\u001b[39m2\u001b[39;49m)\n",
      "File \u001b[1;32mc:\\Users\\czy20\\anaconda3\\envs\\myenv\\lib\\site-packages\\keras\\utils\\traceback_utils.py:64\u001b[0m, in \u001b[0;36mfilter_traceback.<locals>.error_handler\u001b[1;34m(*args, **kwargs)\u001b[0m\n\u001b[0;32m     62\u001b[0m filtered_tb \u001b[39m=\u001b[39m \u001b[39mNone\u001b[39;00m\n\u001b[0;32m     63\u001b[0m \u001b[39mtry\u001b[39;00m:\n\u001b[1;32m---> 64\u001b[0m   \u001b[39mreturn\u001b[39;00m fn(\u001b[39m*\u001b[39margs, \u001b[39m*\u001b[39m\u001b[39m*\u001b[39mkwargs)\n\u001b[0;32m     65\u001b[0m \u001b[39mexcept\u001b[39;00m \u001b[39mException\u001b[39;00m \u001b[39mas\u001b[39;00m e:  \u001b[39m# pylint: disable=broad-except\u001b[39;00m\n\u001b[0;32m     66\u001b[0m   filtered_tb \u001b[39m=\u001b[39m _process_traceback_frames(e\u001b[39m.\u001b[39m__traceback__)\n",
      "File \u001b[1;32mc:\\Users\\czy20\\anaconda3\\envs\\myenv\\lib\\site-packages\\keras\\engine\\training.py:1409\u001b[0m, in \u001b[0;36mModel.fit\u001b[1;34m(self, x, y, batch_size, epochs, verbose, callbacks, validation_split, validation_data, shuffle, class_weight, sample_weight, initial_epoch, steps_per_epoch, validation_steps, validation_batch_size, validation_freq, max_queue_size, workers, use_multiprocessing)\u001b[0m\n\u001b[0;32m   1402\u001b[0m \u001b[39mwith\u001b[39;00m tf\u001b[39m.\u001b[39mprofiler\u001b[39m.\u001b[39mexperimental\u001b[39m.\u001b[39mTrace(\n\u001b[0;32m   1403\u001b[0m     \u001b[39m'\u001b[39m\u001b[39mtrain\u001b[39m\u001b[39m'\u001b[39m,\n\u001b[0;32m   1404\u001b[0m     epoch_num\u001b[39m=\u001b[39mepoch,\n\u001b[0;32m   1405\u001b[0m     step_num\u001b[39m=\u001b[39mstep,\n\u001b[0;32m   1406\u001b[0m     batch_size\u001b[39m=\u001b[39mbatch_size,\n\u001b[0;32m   1407\u001b[0m     _r\u001b[39m=\u001b[39m\u001b[39m1\u001b[39m):\n\u001b[0;32m   1408\u001b[0m   callbacks\u001b[39m.\u001b[39mon_train_batch_begin(step)\n\u001b[1;32m-> 1409\u001b[0m   tmp_logs \u001b[39m=\u001b[39m \u001b[39mself\u001b[39;49m\u001b[39m.\u001b[39;49mtrain_function(iterator)\n\u001b[0;32m   1410\u001b[0m   \u001b[39mif\u001b[39;00m data_handler\u001b[39m.\u001b[39mshould_sync:\n\u001b[0;32m   1411\u001b[0m     context\u001b[39m.\u001b[39masync_wait()\n",
      "File \u001b[1;32mc:\\Users\\czy20\\anaconda3\\envs\\myenv\\lib\\site-packages\\tensorflow\\python\\util\\traceback_utils.py:150\u001b[0m, in \u001b[0;36mfilter_traceback.<locals>.error_handler\u001b[1;34m(*args, **kwargs)\u001b[0m\n\u001b[0;32m    148\u001b[0m filtered_tb \u001b[39m=\u001b[39m \u001b[39mNone\u001b[39;00m\n\u001b[0;32m    149\u001b[0m \u001b[39mtry\u001b[39;00m:\n\u001b[1;32m--> 150\u001b[0m   \u001b[39mreturn\u001b[39;00m fn(\u001b[39m*\u001b[39margs, \u001b[39m*\u001b[39m\u001b[39m*\u001b[39mkwargs)\n\u001b[0;32m    151\u001b[0m \u001b[39mexcept\u001b[39;00m \u001b[39mException\u001b[39;00m \u001b[39mas\u001b[39;00m e:\n\u001b[0;32m    152\u001b[0m   filtered_tb \u001b[39m=\u001b[39m _process_traceback_frames(e\u001b[39m.\u001b[39m__traceback__)\n",
      "File \u001b[1;32mc:\\Users\\czy20\\anaconda3\\envs\\myenv\\lib\\site-packages\\tensorflow\\python\\eager\\def_function.py:915\u001b[0m, in \u001b[0;36mFunction.__call__\u001b[1;34m(self, *args, **kwds)\u001b[0m\n\u001b[0;32m    912\u001b[0m compiler \u001b[39m=\u001b[39m \u001b[39m\"\u001b[39m\u001b[39mxla\u001b[39m\u001b[39m\"\u001b[39m \u001b[39mif\u001b[39;00m \u001b[39mself\u001b[39m\u001b[39m.\u001b[39m_jit_compile \u001b[39melse\u001b[39;00m \u001b[39m\"\u001b[39m\u001b[39mnonXla\u001b[39m\u001b[39m\"\u001b[39m\n\u001b[0;32m    914\u001b[0m \u001b[39mwith\u001b[39;00m OptionalXlaContext(\u001b[39mself\u001b[39m\u001b[39m.\u001b[39m_jit_compile):\n\u001b[1;32m--> 915\u001b[0m   result \u001b[39m=\u001b[39m \u001b[39mself\u001b[39m\u001b[39m.\u001b[39m_call(\u001b[39m*\u001b[39margs, \u001b[39m*\u001b[39m\u001b[39m*\u001b[39mkwds)\n\u001b[0;32m    917\u001b[0m new_tracing_count \u001b[39m=\u001b[39m \u001b[39mself\u001b[39m\u001b[39m.\u001b[39mexperimental_get_tracing_count()\n\u001b[0;32m    918\u001b[0m without_tracing \u001b[39m=\u001b[39m (tracing_count \u001b[39m==\u001b[39m new_tracing_count)\n",
      "File \u001b[1;32mc:\\Users\\czy20\\anaconda3\\envs\\myenv\\lib\\site-packages\\tensorflow\\python\\eager\\def_function.py:947\u001b[0m, in \u001b[0;36mFunction._call\u001b[1;34m(self, *args, **kwds)\u001b[0m\n\u001b[0;32m    944\u001b[0m   \u001b[39mself\u001b[39m\u001b[39m.\u001b[39m_lock\u001b[39m.\u001b[39mrelease()\n\u001b[0;32m    945\u001b[0m   \u001b[39m# In this case we have created variables on the first call, so we run the\u001b[39;00m\n\u001b[0;32m    946\u001b[0m   \u001b[39m# defunned version which is guaranteed to never create variables.\u001b[39;00m\n\u001b[1;32m--> 947\u001b[0m   \u001b[39mreturn\u001b[39;00m \u001b[39mself\u001b[39m\u001b[39m.\u001b[39m_stateless_fn(\u001b[39m*\u001b[39margs, \u001b[39m*\u001b[39m\u001b[39m*\u001b[39mkwds)  \u001b[39m# pylint: disable=not-callable\u001b[39;00m\n\u001b[0;32m    948\u001b[0m \u001b[39melif\u001b[39;00m \u001b[39mself\u001b[39m\u001b[39m.\u001b[39m_stateful_fn \u001b[39mis\u001b[39;00m \u001b[39mnot\u001b[39;00m \u001b[39mNone\u001b[39;00m:\n\u001b[0;32m    949\u001b[0m   \u001b[39m# Release the lock early so that multiple threads can perform the call\u001b[39;00m\n\u001b[0;32m    950\u001b[0m   \u001b[39m# in parallel.\u001b[39;00m\n\u001b[0;32m    951\u001b[0m   \u001b[39mself\u001b[39m\u001b[39m.\u001b[39m_lock\u001b[39m.\u001b[39mrelease()\n",
      "File \u001b[1;32mc:\\Users\\czy20\\anaconda3\\envs\\myenv\\lib\\site-packages\\tensorflow\\python\\eager\\function.py:2453\u001b[0m, in \u001b[0;36mFunction.__call__\u001b[1;34m(self, *args, **kwargs)\u001b[0m\n\u001b[0;32m   2450\u001b[0m \u001b[39mwith\u001b[39;00m \u001b[39mself\u001b[39m\u001b[39m.\u001b[39m_lock:\n\u001b[0;32m   2451\u001b[0m   (graph_function,\n\u001b[0;32m   2452\u001b[0m    filtered_flat_args) \u001b[39m=\u001b[39m \u001b[39mself\u001b[39m\u001b[39m.\u001b[39m_maybe_define_function(args, kwargs)\n\u001b[1;32m-> 2453\u001b[0m \u001b[39mreturn\u001b[39;00m graph_function\u001b[39m.\u001b[39;49m_call_flat(\n\u001b[0;32m   2454\u001b[0m     filtered_flat_args, captured_inputs\u001b[39m=\u001b[39;49mgraph_function\u001b[39m.\u001b[39;49mcaptured_inputs)\n",
      "File \u001b[1;32mc:\\Users\\czy20\\anaconda3\\envs\\myenv\\lib\\site-packages\\tensorflow\\python\\eager\\function.py:1860\u001b[0m, in \u001b[0;36mConcreteFunction._call_flat\u001b[1;34m(self, args, captured_inputs, cancellation_manager)\u001b[0m\n\u001b[0;32m   1856\u001b[0m possible_gradient_type \u001b[39m=\u001b[39m gradients_util\u001b[39m.\u001b[39mPossibleTapeGradientTypes(args)\n\u001b[0;32m   1857\u001b[0m \u001b[39mif\u001b[39;00m (possible_gradient_type \u001b[39m==\u001b[39m gradients_util\u001b[39m.\u001b[39mPOSSIBLE_GRADIENT_TYPES_NONE\n\u001b[0;32m   1858\u001b[0m     \u001b[39mand\u001b[39;00m executing_eagerly):\n\u001b[0;32m   1859\u001b[0m   \u001b[39m# No tape is watching; skip to running the function.\u001b[39;00m\n\u001b[1;32m-> 1860\u001b[0m   \u001b[39mreturn\u001b[39;00m \u001b[39mself\u001b[39m\u001b[39m.\u001b[39m_build_call_outputs(\u001b[39mself\u001b[39;49m\u001b[39m.\u001b[39;49m_inference_function\u001b[39m.\u001b[39;49mcall(\n\u001b[0;32m   1861\u001b[0m       ctx, args, cancellation_manager\u001b[39m=\u001b[39;49mcancellation_manager))\n\u001b[0;32m   1862\u001b[0m forward_backward \u001b[39m=\u001b[39m \u001b[39mself\u001b[39m\u001b[39m.\u001b[39m_select_forward_and_backward_functions(\n\u001b[0;32m   1863\u001b[0m     args,\n\u001b[0;32m   1864\u001b[0m     possible_gradient_type,\n\u001b[0;32m   1865\u001b[0m     executing_eagerly)\n\u001b[0;32m   1866\u001b[0m forward_function, args_with_tangents \u001b[39m=\u001b[39m forward_backward\u001b[39m.\u001b[39mforward()\n",
      "File \u001b[1;32mc:\\Users\\czy20\\anaconda3\\envs\\myenv\\lib\\site-packages\\tensorflow\\python\\eager\\function.py:497\u001b[0m, in \u001b[0;36m_EagerDefinedFunction.call\u001b[1;34m(self, ctx, args, cancellation_manager)\u001b[0m\n\u001b[0;32m    495\u001b[0m \u001b[39mwith\u001b[39;00m _InterpolateFunctionError(\u001b[39mself\u001b[39m):\n\u001b[0;32m    496\u001b[0m   \u001b[39mif\u001b[39;00m cancellation_manager \u001b[39mis\u001b[39;00m \u001b[39mNone\u001b[39;00m:\n\u001b[1;32m--> 497\u001b[0m     outputs \u001b[39m=\u001b[39m execute\u001b[39m.\u001b[39;49mexecute(\n\u001b[0;32m    498\u001b[0m         \u001b[39mstr\u001b[39;49m(\u001b[39mself\u001b[39;49m\u001b[39m.\u001b[39;49msignature\u001b[39m.\u001b[39;49mname),\n\u001b[0;32m    499\u001b[0m         num_outputs\u001b[39m=\u001b[39;49m\u001b[39mself\u001b[39;49m\u001b[39m.\u001b[39;49m_num_outputs,\n\u001b[0;32m    500\u001b[0m         inputs\u001b[39m=\u001b[39;49margs,\n\u001b[0;32m    501\u001b[0m         attrs\u001b[39m=\u001b[39;49mattrs,\n\u001b[0;32m    502\u001b[0m         ctx\u001b[39m=\u001b[39;49mctx)\n\u001b[0;32m    503\u001b[0m   \u001b[39melse\u001b[39;00m:\n\u001b[0;32m    504\u001b[0m     outputs \u001b[39m=\u001b[39m execute\u001b[39m.\u001b[39mexecute_with_cancellation(\n\u001b[0;32m    505\u001b[0m         \u001b[39mstr\u001b[39m(\u001b[39mself\u001b[39m\u001b[39m.\u001b[39msignature\u001b[39m.\u001b[39mname),\n\u001b[0;32m    506\u001b[0m         num_outputs\u001b[39m=\u001b[39m\u001b[39mself\u001b[39m\u001b[39m.\u001b[39m_num_outputs,\n\u001b[1;32m   (...)\u001b[0m\n\u001b[0;32m    509\u001b[0m         ctx\u001b[39m=\u001b[39mctx,\n\u001b[0;32m    510\u001b[0m         cancellation_manager\u001b[39m=\u001b[39mcancellation_manager)\n",
      "File \u001b[1;32mc:\\Users\\czy20\\anaconda3\\envs\\myenv\\lib\\site-packages\\tensorflow\\python\\eager\\execute.py:54\u001b[0m, in \u001b[0;36mquick_execute\u001b[1;34m(op_name, num_outputs, inputs, attrs, ctx, name)\u001b[0m\n\u001b[0;32m     52\u001b[0m \u001b[39mtry\u001b[39;00m:\n\u001b[0;32m     53\u001b[0m   ctx\u001b[39m.\u001b[39mensure_initialized()\n\u001b[1;32m---> 54\u001b[0m   tensors \u001b[39m=\u001b[39m pywrap_tfe\u001b[39m.\u001b[39;49mTFE_Py_Execute(ctx\u001b[39m.\u001b[39;49m_handle, device_name, op_name,\n\u001b[0;32m     55\u001b[0m                                       inputs, attrs, num_outputs)\n\u001b[0;32m     56\u001b[0m \u001b[39mexcept\u001b[39;00m core\u001b[39m.\u001b[39m_NotOkStatusException \u001b[39mas\u001b[39;00m e:\n\u001b[0;32m     57\u001b[0m   \u001b[39mif\u001b[39;00m name \u001b[39mis\u001b[39;00m \u001b[39mnot\u001b[39;00m \u001b[39mNone\u001b[39;00m:\n",
      "\u001b[1;31mKeyboardInterrupt\u001b[0m: "
     ]
    }
   ],
   "source": [
    "# Training model\n",
    "\n",
    "#epochs_2 = 10\n",
    "#prediction_2 = model.fit(training_padded, training_labels, epochs=epochs_2, validation_data=(test_padded, test_labels), verbose=2)\n",
    "\n",
    "epochs_2 = 10\n",
    "history = model.fit(training_padded, training_labels, epochs=epochs_2, validation_data=(test_padded, test_labels), verbose=2)\n"
   ]
  },
  {
   "cell_type": "code",
   "execution_count": 38,
   "metadata": {},
   "outputs": [
    {
     "name": "stdout",
     "output_type": "stream",
     "text": [
      "1/1 [==============================] - 0s 35ms/step\n",
      "[[0.16460219 0.16290961 0.16867116 0.16665943 0.16749617 0.1696614 ]]\n",
      "Review: ['product took super long to come, not worth it']\n",
      "Rating: 5\n"
     ]
    }
   ],
   "source": [
    "sentence = [\"product took super long to come, not worth it\"]\n",
    "sequences = tokenizer.texts_to_sequences(sentence)\n",
    "padded = pad_sequences(sequences, maxlen=max_length, padding=padding_type, truncating=trunc_type)\n",
    "output= model.predict(padded)\n",
    "\n",
    "print(output)\n",
    "print(\"Review:\", sentence)\n",
    "print(\"Rating:\", np.argmax(output, axis=None, out=None))"
   ]
  },
  {
   "cell_type": "code",
   "execution_count": null,
   "metadata": {},
   "outputs": [],
   "source": [
    "# Generating confusion matrix based on predictions \n",
    "# True is column, Pred is row \n",
    "pred = np.argmax(pred_prob, axis=1)\n",
    "true = np.argmax(test_labels, axis=1)\n",
    "from sklearn.metrics import confusion_matrix\n",
    "confusion_m = confusion_matrix(true, pred, labels=[5,4,3,2,1])\n",
    "print(confusion_m)"
   ]
  }
 ],
 "metadata": {
  "kernelspec": {
   "display_name": "myenv",
   "language": "python",
   "name": "python3"
  },
  "language_info": {
   "codemirror_mode": {
    "name": "ipython",
    "version": 3
   },
   "file_extension": ".py",
   "mimetype": "text/x-python",
   "name": "python",
   "nbconvert_exporter": "python",
   "pygments_lexer": "ipython3",
   "version": "3.9.15"
  },
  "orig_nbformat": 4,
  "vscode": {
   "interpreter": {
    "hash": "4eb821d4ea8ffd08a4f6d5ce177763d25f34fff29c46e0e1fcf1b5f44372bda7"
   }
  }
 },
 "nbformat": 4,
 "nbformat_minor": 2
}
